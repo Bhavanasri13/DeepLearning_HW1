{
 "cells": [
  {
   "cell_type": "code",
   "execution_count": 147,
   "id": "0c971ce3",
   "metadata": {},
   "outputs": [],
   "source": [
    "import torch\n",
    "import torch.nn as nn\n",
    "import torch.nn.functional as F\n",
    "from torch.utils.data import DataLoader\n",
    "from torchvision import datasets, transforms\n",
    "from torchvision.utils import make_grid\n",
    "\n",
    "import numpy as np\n",
    "import pandas as pd\n",
    "from sklearn.metrics import confusion_matrix\n",
    "import matplotlib.pyplot as plt\n",
    "%matplotlib inline\n",
    "transform = transforms.ToTensor()"
   ]
  },
  {
   "cell_type": "code",
   "execution_count": 148,
   "id": "6f364ee7",
   "metadata": {},
   "outputs": [
    {
     "data": {
      "text/plain": [
       "Dataset MNIST\n",
       "    Number of datapoints: 60000\n",
       "    Root location: C:\\Users\\harshi\\dataset\\mnist_train\n",
       "    Split: Train\n",
       "    StandardTransform\n",
       "Transform: ToTensor()"
      ]
     },
     "execution_count": 148,
     "metadata": {},
     "output_type": "execute_result"
    }
   ],
   "source": [
    "transform = transforms.ToTensor()\n",
    "train_data= datasets.MNIST(root='C:\\\\Users\\\\harshi\\\\dataset\\\\mnist_train', train=True, download=True, transform=transform)\n",
    "test_data= datasets.MNIST(root='C:\\\\Users\\\\harshi\\\\dataset\\\\mnist_train', train=False, download=True, transform=transform)\n",
    "train_data"
   ]
  },
  {
   "cell_type": "code",
   "execution_count": 149,
   "id": "36be17b5",
   "metadata": {},
   "outputs": [
    {
     "data": {
      "text/plain": [
       "Dataset MNIST\n",
       "    Number of datapoints: 10000\n",
       "    Root location: C:\\Users\\harshi\\dataset\\mnist_train\n",
       "    Split: Test\n",
       "    StandardTransform\n",
       "Transform: ToTensor()"
      ]
     },
     "execution_count": 149,
     "metadata": {},
     "output_type": "execute_result"
    }
   ],
   "source": [
    "test_data"
   ]
  },
  {
   "cell_type": "code",
   "execution_count": 150,
   "id": "e055e64e",
   "metadata": {},
   "outputs": [],
   "source": [
    "trainLoad = DataLoader(train_data, batch_size=500, shuffle=True)\n",
    "testLoad = DataLoader(test_data, batch_size=100, shuffle=False)"
   ]
  },
  {
   "cell_type": "code",
   "execution_count": 151,
   "id": "22ce34c8",
   "metadata": {},
   "outputs": [
    {
     "data": {
      "text/plain": [
       "Model1(\n",
       "  (layers): Sequential(\n",
       "    (0): Linear(in_features=784, out_features=4, bias=True)\n",
       "    (1): ReLU()\n",
       "    (2): Linear(in_features=4, out_features=7, bias=True)\n",
       "    (3): ReLU()\n",
       "    (4): Linear(in_features=7, out_features=10, bias=True)\n",
       "  )\n",
       ")"
      ]
     },
     "execution_count": 151,
     "metadata": {},
     "output_type": "execute_result"
    }
   ],
   "source": [
    "# Function to calculate number of trainable parameters\n",
    "def calc_params(model):\n",
    "    return sum(p.numel() for p in model.parameters() if p.requires_grad)\n",
    "# Model1 class with the same logic but different structure\n",
    "class Model1(nn.Module):\n",
    "    def __init__(self, input_size=784, hidden1_size=4, hidden2_size=7, output_size=10):\n",
    "        super(Model1, self).__init__()\n",
    "        \n",
    "        # Define the layers\n",
    "        self.layers = nn.Sequential(\n",
    "            nn.Linear(input_size, hidden1_size),\n",
    "            nn.ReLU(),\n",
    "            nn.Linear(hidden1_size, hidden2_size),\n",
    "            nn.ReLU(),\n",
    "            nn.Linear(hidden2_size, output_size)\n",
    "        )\n",
    "    \n",
    "    # Forward pass\n",
    "    def forward(self, x):\n",
    "        return self.layers(x)\n",
    "model1=Model1()\n",
    "model1"
   ]
  },
  {
   "cell_type": "code",
   "execution_count": 152,
   "id": "dbe31b35",
   "metadata": {},
   "outputs": [
    {
     "name": "stdout",
     "output_type": "stream",
     "text": [
      "3255\n"
     ]
    }
   ],
   "source": [
    "model1params = sum(p.numel() for p in model1.parameters() if p.requires_grad)\n",
    "print(model1params)"
   ]
  },
  {
   "cell_type": "code",
   "execution_count": 153,
   "id": "62c4aedb-0d83-41e5-bf24-3fd91a92d40d",
   "metadata": {
    "tags": []
   },
   "outputs": [],
   "source": [
    "criterion1 = nn.CrossEntropyLoss()\n",
    "optimizer1 = torch.optim.Adam(model1.parameters(), lr=0.001)"
   ]
  },
  {
   "cell_type": "code",
   "execution_count": 154,
   "id": "cb3a0bff",
   "metadata": {},
   "outputs": [],
   "source": [
    "epochs = 10\n",
    "train_correct_mod1, test_correct_mod1 = [], []\n",
    "\n",
    "for epoch in range(epochs):\n",
    "    train_corr, test_corr = 0, 0\n",
    "\n",
    "    # Training phase\n",
    "    for batch_idx, (X_train, y_train) in enumerate(trainLoad):\n",
    "        \n",
    "        # Forward pass\n",
    "        y_pred = model1(X_train.view(X_train.size(0), -1))  \n",
    "        loss = criterion1(y_pred, y_train)\n",
    "\n",
    "        # Count correct predictions\n",
    "        _, predicted = torch.max(y_pred.data, 1)\n",
    "        train_corr += (predicted == y_train).sum()\n",
    "\n",
    "        # Backpropagation and optimizer step\n",
    "        optimizer1.zero_grad()\n",
    "        loss.backward()\n",
    "        optimizer1.step()\n",
    "\n",
    "    # Track training performance\n",
    "    train_losses_mod1 = loss  # Storing the loss from the last batch\n",
    "    train_correct_mod1.append(train_corr)\n",
    "\n",
    "    # Evaluation phase (testing)\n",
    "    with torch.no_grad():\n",
    "        for batch_idx, (X_test, y_test) in enumerate(testLoad):\n",
    "\n",
    "            # Forward pass on test data\n",
    "            y_val = model1(X_test.view(X_test.size(0), -1))\n",
    "\n",
    "            # Count correct predictions\n",
    "            _, predicted = torch.max(y_val.data, 1)\n",
    "            test_corr += (predicted == y_test).sum()\n",
    "\n",
    "    # Track testing performance\n",
    "    test_losses_mod1 = loss  # Storing the loss from the last batch of test\n",
    "    test_correct_mod1.append(test_corr)\n"
   ]
  },
  {
   "cell_type": "code",
   "execution_count": 155,
   "id": "c1703f9f",
   "metadata": {},
   "outputs": [
    {
     "name": "stdout",
     "output_type": "stream",
     "text": [
      "tensor(79.4983)\n",
      "tensor(80.2400)\n"
     ]
    }
   ],
   "source": [
    "train_losses_mod1= train_losses_mod1.detach().numpy()\n",
    "for t in train_correct_mod1:\n",
    "    trn_accu_mod1=t/600\n",
    "print(trn_accu_mod1)\n",
    "for t in test_correct_mod1:\n",
    "    tst_accu_mod1=t/100   \n",
    "print(tst_accu_mod1)\n"
   ]
  },
  {
   "cell_type": "code",
   "execution_count": 156,
   "id": "85d7ba07",
   "metadata": {},
   "outputs": [
    {
     "data": {
      "text/plain": [
       "Model2(\n",
       "  (layers): Sequential(\n",
       "    (0): Linear(in_features=784, out_features=6, bias=True)\n",
       "    (1): ReLU()\n",
       "    (2): Linear(in_features=6, out_features=9, bias=True)\n",
       "    (3): ReLU()\n",
       "    (4): Linear(in_features=9, out_features=10, bias=True)\n",
       "  )\n",
       ")"
      ]
     },
     "execution_count": 156,
     "metadata": {},
     "output_type": "execute_result"
    }
   ],
   "source": [
    "class Model2(nn.Module):\n",
    "    def __init__(self, input_size=784, hidden1_size=6, hidden2_size=9, output_size=10):\n",
    "        super(Model2, self).__init__()\n",
    "        \n",
    "        # Define layers using nn.Sequential for better organization\n",
    "        self.layers = nn.Sequential(\n",
    "            nn.Linear(input_size, hidden1_size),\n",
    "            nn.ReLU(),\n",
    "            nn.Linear(hidden1_size, hidden2_size),\n",
    "            nn.ReLU(),\n",
    "            nn.Linear(hidden2_size, output_size)\n",
    "        )\n",
    "\n",
    "    # Forward pass through the network\n",
    "    def forward(self, x):\n",
    "        return self.layers(x)\n",
    "model2=Model2()\n",
    "model2"
   ]
  },
  {
   "cell_type": "code",
   "execution_count": 157,
   "id": "0ae1f3a5",
   "metadata": {},
   "outputs": [
    {
     "name": "stdout",
     "output_type": "stream",
     "text": [
      "4873\n"
     ]
    }
   ],
   "source": [
    "model2params = sum(p.numel() for p in model2.parameters() if p.requires_grad)\n",
    "print(model2params)"
   ]
  },
  {
   "cell_type": "code",
   "execution_count": 158,
   "id": "33fe9566",
   "metadata": {},
   "outputs": [
    {
     "name": "stdout",
     "output_type": "stream",
     "text": [
      "tensor(89.5117)\n",
      "tensor(89.5800)\n"
     ]
    }
   ],
   "source": [
    "criterion2 = nn.CrossEntropyLoss()\n",
    "optimizer2 = torch.optim.Adam(model2.parameters(), lr=0.001)\n",
    "epochs = 10\n",
    "train_correct_mod2, test_correct_mod2 = [], []\n",
    "\n",
    "for epoch in range(epochs):\n",
    "    train_corr, test_corr = 0, 0\n",
    "\n",
    "    # Training phase\n",
    "    for batch_idx, (X_train, y_train) in enumerate(trainLoad):\n",
    "        \n",
    "        # Forward pass through the model\n",
    "        y_pred = model2(X_train.view(X_train.size(0), -1))  \n",
    "        loss = criterion2(y_pred, y_train)\n",
    "\n",
    "        # Count correct predictions\n",
    "        _, predicted = torch.max(y_pred.data, 1)\n",
    "        train_corr += (predicted == y_train).sum()\n",
    "\n",
    "        # Backpropagation and optimizer step\n",
    "        optimizer2.zero_grad()\n",
    "        loss.backward()\n",
    "        optimizer2.step()\n",
    "\n",
    "    # Track training loss and accuracy for the epoch\n",
    "    train_losses_mod2 = loss  # Store loss from the last batch\n",
    "    train_correct_mod2.append(train_corr)\n",
    "\n",
    "    # Testing phase\n",
    "    with torch.no_grad():\n",
    "        for batch_idx, (X_test, y_test) in enumerate(testLoad):\n",
    "\n",
    "            # Forward pass on test data\n",
    "            y_val = model2(X_test.view(X_test.size(0), -1))\n",
    "\n",
    "            # Count correct predictions\n",
    "            _, predicted = torch.max(y_val.data, 1)\n",
    "            test_corr += (predicted == y_test).sum()\n",
    "\n",
    "    # Track testing loss and accuracy for the epoch\n",
    "    test_losses_mod2 = loss  # Store loss from the last batch of test\n",
    "    test_correct_mod2.append(test_corr)\n",
    "train_losses_mod2= train_losses_mod2.detach().numpy()\n",
    "for t in train_correct_mod2:\n",
    "    trn_accu_mod2=t/600 \n",
    "print(trn_accu_mod2)\n",
    "for t in test_correct_mod2:\n",
    "    tst_accu_mod2=t/100   \n",
    "print(tst_accu_mod2)"
   ]
  },
  {
   "cell_type": "code",
   "execution_count": 159,
   "id": "cb7cd7d8",
   "metadata": {},
   "outputs": [
    {
     "data": {
      "text/plain": [
       "Model3(\n",
       "  (layers): Sequential(\n",
       "    (0): Linear(in_features=784, out_features=11, bias=True)\n",
       "    (1): ReLU()\n",
       "    (2): Linear(in_features=11, out_features=20, bias=True)\n",
       "    (3): ReLU()\n",
       "    (4): Linear(in_features=20, out_features=10, bias=True)\n",
       "  )\n",
       ")"
      ]
     },
     "execution_count": 159,
     "metadata": {},
     "output_type": "execute_result"
    }
   ],
   "source": [
    "class Model3(nn.Module):\n",
    "    def __init__(self, input_size=784, hidden1_size=11, hidden2_size=20, output_size=10):\n",
    "        super(Model3, self).__init__()\n",
    "\n",
    "        # Layers defined in a Sequential container for better organization\n",
    "        self.layers = nn.Sequential(\n",
    "            nn.Linear(input_size, hidden1_size),\n",
    "            nn.ReLU(),\n",
    "            nn.Linear(hidden1_size, hidden2_size),\n",
    "            nn.ReLU(),\n",
    "            nn.Linear(hidden2_size, output_size)\n",
    "        )\n",
    "    \n",
    "    # Forward pass through the network\n",
    "    def forward(self, x):\n",
    "        return self.layers(x)\n",
    "model3=Model3()\n",
    "model3"
   ]
  },
  {
   "cell_type": "code",
   "execution_count": 160,
   "id": "8ee2d4c1",
   "metadata": {},
   "outputs": [
    {
     "name": "stdout",
     "output_type": "stream",
     "text": [
      "9085\n"
     ]
    }
   ],
   "source": [
    "model3params = sum(p.numel() for p in model3.parameters() if p.requires_grad)\n",
    "print(model3params)"
   ]
  },
  {
   "cell_type": "code",
   "execution_count": 161,
   "id": "075d6385",
   "metadata": {},
   "outputs": [
    {
     "name": "stdout",
     "output_type": "stream",
     "text": [
      "tensor(92.3200)\n",
      "tensor(92.5500)\n"
     ]
    }
   ],
   "source": [
    "criterion3 = nn.CrossEntropyLoss()\n",
    "optimizer3 = torch.optim.Adam(model3.parameters(), lr=0.001)\n",
    "epochs = 10\n",
    "train_correct_mod3, test_correct_mod3 = [], []\n",
    "\n",
    "for epoch in range(epochs):\n",
    "    train_corr, test_corr = 0, 0\n",
    "\n",
    "    # Training phase\n",
    "    for batch_idx, (X_train, y_train) in enumerate(trainLoad):\n",
    "        \n",
    "        # Forward pass through model\n",
    "        y_pred = model3(X_train.view(X_train.size(0), -1))  \n",
    "        loss = criterion3(y_pred, y_train)\n",
    "\n",
    "        # Tally correct predictions\n",
    "        _, predicted = torch.max(y_pred.data, 1)\n",
    "        train_corr += (predicted == y_train).sum()\n",
    "\n",
    "        # Backpropagation and optimizer step\n",
    "        optimizer3.zero_grad()\n",
    "        loss.backward()\n",
    "        optimizer3.step()\n",
    "\n",
    "    # Track training loss and accuracy for the epoch\n",
    "    train_losses_mod3 = loss  # Store the last batch's loss\n",
    "    train_correct_mod3.append(train_corr)\n",
    "\n",
    "    # Evaluation phase (testing)\n",
    "    with torch.no_grad():\n",
    "        for batch_idx, (X_test, y_test) in enumerate(testLoad):\n",
    "\n",
    "            # Forward pass on test data\n",
    "            y_val = model3(X_test.view(X_test.size(0), -1))\n",
    "\n",
    "            # Tally correct predictions\n",
    "            _, predicted = torch.max(y_val.data, 1)\n",
    "            test_corr += (predicted == y_test).sum()\n",
    "\n",
    "    # Track testing loss and accuracy for the epoch\n",
    "    test_losses_mod3 = loss  # Store the last batch's loss\n",
    "    test_correct_mod3.append(test_corr)\n",
    "\n",
    "train_losses_mod3= train_losses_mod3.detach().numpy()\n",
    "for t in train_correct_mod3:\n",
    "    trn_accu_mod3=t/600    \n",
    "print(trn_accu_mod3)\n",
    "for t in test_correct_mod3:\n",
    "    tst_accu_mod3=t/100    \n",
    "print(tst_accu_mod3)"
   ]
  },
  {
   "cell_type": "code",
   "execution_count": 162,
   "id": "ee728004",
   "metadata": {},
   "outputs": [
    {
     "data": {
      "text/plain": [
       "Model4(\n",
       "  (layers): Sequential(\n",
       "    (0): Linear(in_features=784, out_features=15, bias=True)\n",
       "    (1): ReLU()\n",
       "    (2): Linear(in_features=15, out_features=26, bias=True)\n",
       "    (3): ReLU()\n",
       "    (4): Linear(in_features=26, out_features=10, bias=True)\n",
       "  )\n",
       ")"
      ]
     },
     "execution_count": 162,
     "metadata": {},
     "output_type": "execute_result"
    }
   ],
   "source": [
    "class Model4(nn.Module):\n",
    "    def __init__(self, input_size=784, hidden1_size=15, hidden2_size=26, output_size=10):\n",
    "        super(Model4, self).__init__()\n",
    "\n",
    "        # Layers defined in a Sequential container for better organization\n",
    "        self.layers = nn.Sequential(\n",
    "            nn.Linear(input_size, hidden1_size),\n",
    "            nn.ReLU(),\n",
    "            nn.Linear(hidden1_size, hidden2_size),\n",
    "            nn.ReLU(),\n",
    "            nn.Linear(hidden2_size, output_size)\n",
    "        )\n",
    "    \n",
    "    # Forward pass through the network\n",
    "    def forward(self, x):\n",
    "        return self.layers(x)\n",
    "model4=Model4()\n",
    "model4"
   ]
  },
  {
   "cell_type": "code",
   "execution_count": 163,
   "id": "bbedf321",
   "metadata": {},
   "outputs": [
    {
     "name": "stdout",
     "output_type": "stream",
     "text": [
      "12461\n"
     ]
    }
   ],
   "source": [
    "model4params = sum(p.numel() for p in model4.parameters() if p.requires_grad)\n",
    "print(model4params)"
   ]
  },
  {
   "cell_type": "code",
   "execution_count": 164,
   "id": "48f51f23",
   "metadata": {},
   "outputs": [],
   "source": [
    "criterion4 = nn.CrossEntropyLoss()\n",
    "optimizer4 = torch.optim.Adam(model4.parameters(), lr=0.001)"
   ]
  },
  {
   "cell_type": "code",
   "execution_count": 165,
   "id": "7d49fcb8",
   "metadata": {},
   "outputs": [
    {
     "name": "stdout",
     "output_type": "stream",
     "text": [
      "tensor(94.2300)\n",
      "tensor(94.4100)\n"
     ]
    }
   ],
   "source": [
    "criterion4 = nn.CrossEntropyLoss()\n",
    "optimizer4 = torch.optim.Adam(model4.parameters(), lr=0.001)\n",
    "epochs = 10\n",
    "train_correct_mod4, test_correct_mod4 = [], []\n",
    "\n",
    "for epoch in range(epochs):\n",
    "    train_corr, test_corr = 0, 0\n",
    "\n",
    "    # Training phase\n",
    "    for batch_idx, (X_train, y_train) in enumerate(trainLoad):\n",
    "        \n",
    "        # Forward pass through the model\n",
    "        y_pred = model4(X_train.view(X_train.size(0), -1))  \n",
    "        loss = criterion4(y_pred, y_train)\n",
    "\n",
    "        # Count correct predictions\n",
    "        _, predicted = torch.max(y_pred.data, 1)\n",
    "        train_corr += (predicted == y_train).sum()\n",
    "\n",
    "        # Backpropagation and optimizer update\n",
    "        optimizer4.zero_grad()\n",
    "        loss.backward()\n",
    "        optimizer4.step()\n",
    "\n",
    "    # Track training loss and accuracy for the epoch\n",
    "    train_losses_mod4 = loss.detach().numpy()  # Detach and convert to numpy\n",
    "    train_correct_mod4.append(train_corr)\n",
    "\n",
    "    # Testing phase (evaluation)\n",
    "    with torch.no_grad():\n",
    "        for batch_idx, (X_test, y_test) in enumerate(testLoad):\n",
    "\n",
    "            # Forward pass on the test data\n",
    "            y_val = model4(X_test.view(X_test.size(0), -1))\n",
    "\n",
    "            # Count correct predictions\n",
    "            _, predicted = torch.max(y_val.data, 1)\n",
    "            test_corr += (predicted == y_test).sum()\n",
    "\n",
    "    # Track test loss and accuracy for the epoch\n",
    "    loss = criterion4(y_val, y_test)\n",
    "    test_losses_mod4 = loss.detach().numpy()  # Detach and convert to numpy\n",
    "    test_correct_mod4.append(test_corr)    \n",
    "for t in train_correct_mod4:\n",
    "    trn_accu_mod4=t/600    \n",
    "print(trn_accu_mod4)\n",
    "for t in test_correct_mod4:\n",
    "    tst_accu_mod4=t/100    \n",
    "print(tst_accu_mod4)"
   ]
  },
  {
   "cell_type": "code",
   "execution_count": 166,
   "id": "b39b789e",
   "metadata": {},
   "outputs": [
    {
     "data": {
      "text/plain": [
       "Model5(\n",
       "  (layers): Sequential(\n",
       "    (0): Linear(in_features=784, out_features=62, bias=True)\n",
       "    (1): ReLU()\n",
       "    (2): Linear(in_features=62, out_features=92, bias=True)\n",
       "    (3): ReLU()\n",
       "    (4): Linear(in_features=92, out_features=10, bias=True)\n",
       "  )\n",
       ")"
      ]
     },
     "execution_count": 166,
     "metadata": {},
     "output_type": "execute_result"
    }
   ],
   "source": [
    "class Model5(nn.Module):\n",
    "    def __init__(self, input_size=784, hidden1_size=62, hidden2_size=92, output_size=10):\n",
    "        super(Model5, self).__init__()\n",
    "\n",
    "        # Layers defined in a Sequential container for better organization\n",
    "        self.layers = nn.Sequential(\n",
    "            nn.Linear(input_size, hidden1_size),\n",
    "            nn.ReLU(),\n",
    "            nn.Linear(hidden1_size, hidden2_size),\n",
    "            nn.ReLU(),\n",
    "            nn.Linear(hidden2_size, output_size)\n",
    "        )\n",
    "    \n",
    "    # Forward pass through the network\n",
    "    def forward(self, x):\n",
    "        return self.layers(x)\n",
    "model5=Model5()\n",
    "model5"
   ]
  },
  {
   "cell_type": "code",
   "execution_count": 167,
   "id": "eecde4b6",
   "metadata": {},
   "outputs": [
    {
     "name": "stdout",
     "output_type": "stream",
     "text": [
      "55396\n"
     ]
    }
   ],
   "source": [
    "model5params = sum(p.numel() for p in model5.parameters() if p.requires_grad)\n",
    "print(model5params)"
   ]
  },
  {
   "cell_type": "code",
   "execution_count": 168,
   "id": "7c5772e0",
   "metadata": {},
   "outputs": [
    {
     "name": "stdout",
     "output_type": "stream",
     "text": [
      "tensor(97.0050)\n",
      "tensor(96.4400)\n"
     ]
    }
   ],
   "source": [
    "criterion5 = nn.CrossEntropyLoss()\n",
    "optimizer5 = torch.optim.Adam(model5.parameters(), lr=0.001)\n",
    "epochs = 10\n",
    "train_correct_mod5, test_correct_mod5 = [], []\n",
    "\n",
    "for epoch in range(epochs):\n",
    "    train_corr, test_corr = 0, 0\n",
    "\n",
    "    # Training phase\n",
    "    for batch_idx, (X_train, y_train) in enumerate(trainLoad):\n",
    "        \n",
    "        # Forward pass through model\n",
    "        y_pred = model5(X_train.view(X_train.size(0), -1))  \n",
    "        loss = criterion5(y_pred, y_train)\n",
    "\n",
    "        # Tally correct predictions\n",
    "        _, predicted = torch.max(y_pred.data, 1)\n",
    "        train_corr += (predicted == y_train).sum()\n",
    "\n",
    "        # Backpropagation and optimizer step\n",
    "        optimizer5.zero_grad()\n",
    "        loss.backward()\n",
    "        optimizer5.step()\n",
    "\n",
    "    # Track training loss and accuracy for the epoch\n",
    "    train_losses_mod5 = loss  # Store the last batch's loss\n",
    "    train_correct_mod5.append(train_corr)\n",
    "\n",
    "    # Evaluation phase (testing)\n",
    "    with torch.no_grad():\n",
    "        for batch_idx, (X_test, y_test) in enumerate(testLoad):\n",
    "\n",
    "            # Forward pass on test data\n",
    "            y_val = model5(X_test.view(X_test.size(0), -1))\n",
    "\n",
    "            # Tally correct predictions\n",
    "            _, predicted = torch.max(y_val.data, 1)\n",
    "            test_corr += (predicted == y_test).sum()\n",
    "\n",
    "    # Track testing loss and accuracy for the epoch\n",
    "    test_losses_mod5 = loss  # Store the last batch's loss\n",
    "    test_correct_mod5.append(test_corr)\n",
    "\n",
    "train_losses_mod5= train_losses_mod5.detach().numpy()\n",
    "for t in train_correct_mod5:\n",
    "    trn_accu_mod5=t/600    \n",
    "print(trn_accu_mod5)\n",
    "for t in test_correct_mod5:\n",
    "    tst_accu_mod5=t/100    \n",
    "print(tst_accu_mod5)\n"
   ]
  },
  {
   "cell_type": "code",
   "execution_count": 169,
   "id": "2be4fb89",
   "metadata": {},
   "outputs": [
    {
     "name": "stdout",
     "output_type": "stream",
     "text": [
      "tensor(97.0050)\n",
      "tensor(96.4400)\n"
     ]
    }
   ],
   "source": [
    "for t in train_correct_mod5:\n",
    "    trn_accu_mod5=t/600    \n",
    "print(trn_accu_mod5)\n",
    "for t in test_correct_mod5:\n",
    "    tst_accu_mod5=t/100    \n",
    "print(tst_accu_mod5)"
   ]
  },
  {
   "cell_type": "code",
   "execution_count": 170,
   "id": "f402f879",
   "metadata": {},
   "outputs": [
    {
     "data": {
      "text/plain": [
       "Model6(\n",
       "  (layers): Sequential(\n",
       "    (0): Linear(in_features=784, out_features=70, bias=True)\n",
       "    (1): ReLU()\n",
       "    (2): Linear(in_features=70, out_features=110, bias=True)\n",
       "    (3): ReLU()\n",
       "    (4): Linear(in_features=110, out_features=10, bias=True)\n",
       "  )\n",
       ")"
      ]
     },
     "execution_count": 170,
     "metadata": {},
     "output_type": "execute_result"
    }
   ],
   "source": [
    "class Model6(nn.Module):\n",
    "    def __init__(self, input_size=784, hidden1_size=70, hidden2_size=110, output_size=10):\n",
    "        super(Model6, self).__init__()\n",
    "\n",
    "        # Layers defined in a Sequential container for better organization\n",
    "        self.layers = nn.Sequential(\n",
    "            nn.Linear(input_size, hidden1_size),\n",
    "            nn.ReLU(),\n",
    "            nn.Linear(hidden1_size, hidden2_size),\n",
    "            nn.ReLU(),\n",
    "            nn.Linear(hidden2_size, output_size)\n",
    "        )\n",
    "    \n",
    "    # Forward pass through the network\n",
    "    def forward(self, x):\n",
    "        return self.layers(x)\n",
    "model6=Model6()\n",
    "model6"
   ]
  },
  {
   "cell_type": "code",
   "execution_count": 171,
   "id": "3b1ebc00",
   "metadata": {},
   "outputs": [
    {
     "name": "stdout",
     "output_type": "stream",
     "text": [
      "63870\n"
     ]
    }
   ],
   "source": [
    "model6params = sum(p.numel() for p in model6.parameters() if p.requires_grad)\n",
    "print(model6params)"
   ]
  },
  {
   "cell_type": "code",
   "execution_count": 172,
   "id": "c68f969b",
   "metadata": {},
   "outputs": [],
   "source": [
    "criterion6 = nn.CrossEntropyLoss()\n",
    "optimizer6 = torch.optim.Adam(model6.parameters(), lr=0.001)\n",
    "epochs = 10\n",
    "train_correct_mod6, test_correct_mod6 = [], []\n",
    "\n",
    "for epoch in range(epochs):\n",
    "    train_corr, test_corr = 0, 0\n",
    "\n",
    "    # Training phase\n",
    "    for batch_idx, (X_train, y_train) in enumerate(trainLoad):\n",
    "        \n",
    "        # Forward pass through the model\n",
    "        y_pred = model6(X_train.view(X_train.size(0), -1))  \n",
    "        loss = criterion6(y_pred, y_train)\n",
    "\n",
    "        # Count correct predictions\n",
    "        _, predicted = torch.max(y_pred.data, 1)\n",
    "        train_corr += (predicted == y_train).sum()\n",
    "\n",
    "        # Backpropagation and optimizer update\n",
    "        optimizer6.zero_grad()\n",
    "        loss.backward()\n",
    "        optimizer6.step()\n",
    "\n",
    "    # Track training loss and accuracy for the epoch\n",
    "    train_losses_mod6 = loss.detach().numpy()  # Detach and convert to numpy\n",
    "    train_correct_mod6.append(train_corr)\n",
    "\n",
    "    # Testing phase (evaluation)\n",
    "    with torch.no_grad():\n",
    "        for batch_idx, (X_test, y_test) in enumerate(testLoad):\n",
    "\n",
    "            # Forward pass on the test data\n",
    "            y_val = model6(X_test.view(X_test.size(0), -1))\n",
    "\n",
    "            # Count correct predictions\n",
    "            _, predicted = torch.max(y_val.data, 1)\n",
    "            test_corr += (predicted == y_test).sum()\n",
    "\n",
    "    # Track test loss and accuracy for the epoch\n",
    "    loss = criterion6(y_val, y_test)\n",
    "    test_losses_mod6 = loss.detach().numpy()  # Detach and convert to numpy\n",
    "    test_correct_mod6.append(test_corr)\n",
    "       "
   ]
  },
  {
   "cell_type": "code",
   "execution_count": 173,
   "id": "1cdd9542",
   "metadata": {},
   "outputs": [
    {
     "name": "stdout",
     "output_type": "stream",
     "text": [
      "tensor(97.5683)\n",
      "tensor(96.7100)\n"
     ]
    }
   ],
   "source": [
    "for t in train_correct_mod6:\n",
    "    trn_accu_mod6=t/600    \n",
    "print(trn_accu_mod6)\n",
    "for t in test_correct_mod6:\n",
    "    tst_accu_mod6=t/100    \n",
    "print(tst_accu_mod6)"
   ]
  },
  {
   "cell_type": "code",
   "execution_count": 174,
   "id": "62ca40f5",
   "metadata": {},
   "outputs": [
    {
     "data": {
      "text/plain": [
       "Model7(\n",
       "  (layers): Sequential(\n",
       "    (0): Linear(in_features=784, out_features=130, bias=True)\n",
       "    (1): ReLU()\n",
       "    (2): Linear(in_features=130, out_features=180, bias=True)\n",
       "    (3): ReLU()\n",
       "    (4): Linear(in_features=180, out_features=10, bias=True)\n",
       "  )\n",
       ")"
      ]
     },
     "execution_count": 174,
     "metadata": {},
     "output_type": "execute_result"
    }
   ],
   "source": [
    "class Model7(nn.Module):\n",
    "    def __init__(self, input_size=784, hidden1_size=130, hidden2_size=180, output_size=10):\n",
    "        super(Model7, self).__init__()\n",
    "\n",
    "        # Layers defined in a Sequential container for better organization\n",
    "        self.layers = nn.Sequential(\n",
    "            nn.Linear(input_size, hidden1_size),\n",
    "            nn.ReLU(),\n",
    "            nn.Linear(hidden1_size, hidden2_size),\n",
    "            nn.ReLU(),\n",
    "            nn.Linear(hidden2_size, output_size)\n",
    "        )\n",
    "    \n",
    "    # Forward pass through the network\n",
    "    def forward(self, x):\n",
    "        return self.layers(x)\n",
    "model7=Model7()\n",
    "model7"
   ]
  },
  {
   "cell_type": "code",
   "execution_count": 175,
   "id": "bf0eb4fa",
   "metadata": {},
   "outputs": [
    {
     "name": "stdout",
     "output_type": "stream",
     "text": [
      "127440\n"
     ]
    }
   ],
   "source": [
    "model7params = sum(p.numel() for p in model7.parameters() if p.requires_grad)\n",
    "print(model7params)"
   ]
  },
  {
   "cell_type": "code",
   "execution_count": 176,
   "id": "1d46d9c1",
   "metadata": {},
   "outputs": [],
   "source": [
    "criterion7 = nn.CrossEntropyLoss()\n",
    "optimizer7 = torch.optim.Adam(model7.parameters(), lr=0.001)\n",
    "epochs = 10\n",
    "train_correct_mod7, test_correct_mod7 = [], []\n",
    "\n",
    "for epoch in range(epochs):\n",
    "    train_corr, test_corr = 0, 0\n",
    "\n",
    "    # Training phase\n",
    "    for batch_idx, (X_train, y_train) in enumerate(trainLoad):\n",
    "        \n",
    "        # Forward pass through the model\n",
    "        y_pred = model7(X_train.view(X_train.size(0), -1))  \n",
    "        loss = criterion7(y_pred, y_train)\n",
    "\n",
    "        # Count correct predictions\n",
    "        _, predicted = torch.max(y_pred.data, 1)\n",
    "        train_corr += (predicted == y_train).sum()\n",
    "\n",
    "        # Backpropagation and optimizer update\n",
    "        optimizer7.zero_grad()\n",
    "        loss.backward()\n",
    "        optimizer7.step()\n",
    "\n",
    "    # Track training loss and accuracy for the epoch\n",
    "    train_losses_mod7 = loss.detach().numpy()  # Detach and convert to numpy\n",
    "    train_correct_mod7.append(train_corr)\n",
    "\n",
    "    # Testing phase (evaluation)\n",
    "    with torch.no_grad():\n",
    "        for batch_idx, (X_test, y_test) in enumerate(testLoad):\n",
    "\n",
    "            # Forward pass on the test data\n",
    "            y_val = model7(X_test.view(X_test.size(0), -1))\n",
    "\n",
    "            # Count correct predictions\n",
    "            _, predicted = torch.max(y_val.data, 1)\n",
    "            test_corr += (predicted == y_test).sum()\n",
    "\n",
    "    # Track test loss and accuracy for the epoch\n",
    "    loss = criterion7(y_val, y_test)\n",
    "    test_losses_mod7 = loss.detach().numpy()  # Detach and convert to numpy\n",
    "    test_correct_mod7.append(test_corr)\n",
    "       \n",
    "        "
   ]
  },
  {
   "cell_type": "code",
   "execution_count": 177,
   "id": "e53ac7fa",
   "metadata": {},
   "outputs": [
    {
     "name": "stdout",
     "output_type": "stream",
     "text": [
      "tensor(98.3350)\n",
      "tensor(97.4900)\n"
     ]
    }
   ],
   "source": [
    "for t in train_correct_mod7:\n",
    "    trn_accu_mod7=t/600    \n",
    "print(trn_accu_mod7)\n",
    "for t in test_correct_mod7:\n",
    "    tst_accu_mod7=t/100    \n",
    "print(tst_accu_mod7)"
   ]
  },
  {
   "cell_type": "code",
   "execution_count": 178,
   "id": "8cd58f55",
   "metadata": {},
   "outputs": [
    {
     "data": {
      "text/plain": [
       "Model8(\n",
       "  (layers): Sequential(\n",
       "    (0): Linear(in_features=784, out_features=200, bias=True)\n",
       "    (1): ReLU()\n",
       "    (2): Linear(in_features=200, out_features=400, bias=True)\n",
       "    (3): ReLU()\n",
       "    (4): Linear(in_features=400, out_features=10, bias=True)\n",
       "  )\n",
       ")"
      ]
     },
     "execution_count": 178,
     "metadata": {},
     "output_type": "execute_result"
    }
   ],
   "source": [
    "class Model8(nn.Module):\n",
    "    def __init__(self, input_size=784, hidden1_size=200, hidden2_size=400, output_size=10):\n",
    "        super(Model8, self).__init__()\n",
    "\n",
    "        # Layers defined in a Sequential container for better organization\n",
    "        self.layers = nn.Sequential(\n",
    "            nn.Linear(input_size, hidden1_size),\n",
    "            nn.ReLU(),\n",
    "            nn.Linear(hidden1_size, hidden2_size),\n",
    "            nn.ReLU(),\n",
    "            nn.Linear(hidden2_size, output_size)\n",
    "        )\n",
    "    \n",
    "    # Forward pass through the network\n",
    "    def forward(self, x):\n",
    "        return self.layers(x)\n",
    "model8=Model8()\n",
    "model8"
   ]
  },
  {
   "cell_type": "code",
   "execution_count": 179,
   "id": "1563afa4",
   "metadata": {},
   "outputs": [
    {
     "name": "stdout",
     "output_type": "stream",
     "text": [
      "241410\n"
     ]
    }
   ],
   "source": [
    "model8params = sum(p.numel() for p in model8.parameters() if p.requires_grad)\n",
    "print(model8params)"
   ]
  },
  {
   "cell_type": "code",
   "execution_count": 180,
   "id": "784864ae",
   "metadata": {},
   "outputs": [],
   "source": [
    "criterion8 = nn.CrossEntropyLoss()\n",
    "optimizer8 = torch.optim.Adam(model8.parameters(), lr=0.001)\n",
    "epochs = 10\n",
    "train_correct_mod8, test_correct_mod8 = [], []\n",
    "\n",
    "for epoch in range(epochs):\n",
    "    train_corr, test_corr = 0, 0\n",
    "\n",
    "    # Training phase\n",
    "    for batch_idx, (X_train, y_train) in enumerate(trainLoad):\n",
    "        \n",
    "        # Forward pass through the model\n",
    "        y_pred = model8(X_train.view(X_train.size(0), -1))  \n",
    "        loss = criterion8(y_pred, y_train)\n",
    "\n",
    "        # Count correct predictions\n",
    "        _, predicted = torch.max(y_pred.data, 1)\n",
    "        train_corr += (predicted == y_train).sum()\n",
    "\n",
    "        # Backpropagation and optimizer update\n",
    "        optimizer8.zero_grad()\n",
    "        loss.backward()\n",
    "        optimizer8.step()\n",
    "\n",
    "    # Track training loss and accuracy for the epoch\n",
    "    train_losses_mod8 = loss.detach().numpy()  # Detach and convert to numpy\n",
    "    train_correct_mod8.append(train_corr)\n",
    "\n",
    "    # Testing phase (evaluation)\n",
    "    with torch.no_grad():\n",
    "        for batch_idx, (X_test, y_test) in enumerate(testLoad):\n",
    "\n",
    "            # Forward pass on the test data\n",
    "            y_val = model8(X_test.view(X_test.size(0), -1))\n",
    "\n",
    "            # Count correct predictions\n",
    "            _, predicted = torch.max(y_val.data, 1)\n",
    "            test_corr += (predicted == y_test).sum()\n",
    "\n",
    "    # Track test loss and accuracy for the epoch\n",
    "    loss = criterion8(y_val, y_test)\n",
    "    test_losses_mod8 = loss.detach().numpy()  # Detach and convert to numpy\n",
    "    test_correct_mod8.append(test_corr)\n",
    "       "
   ]
  },
  {
   "cell_type": "code",
   "execution_count": 181,
   "id": "2d000f79",
   "metadata": {},
   "outputs": [
    {
     "name": "stdout",
     "output_type": "stream",
     "text": [
      "tensor(99.1550)\n",
      "tensor(97.9100)\n"
     ]
    }
   ],
   "source": [
    "for t in train_correct_mod8:\n",
    "    trn_accu_mod8=t/600    \n",
    "print(trn_accu_mod8)\n",
    "for t in test_correct_mod8:\n",
    "    tst_accu_mod8=t/100\n",
    "    \n",
    "print(tst_accu_mod8)"
   ]
  },
  {
   "cell_type": "code",
   "execution_count": 182,
   "id": "8a24b010",
   "metadata": {},
   "outputs": [
    {
     "data": {
      "text/plain": [
       "Model9(\n",
       "  (layers): Sequential(\n",
       "    (0): Linear(in_features=784, out_features=300, bias=True)\n",
       "    (1): ReLU()\n",
       "    (2): Linear(in_features=300, out_features=600, bias=True)\n",
       "    (3): ReLU()\n",
       "    (4): Linear(in_features=600, out_features=10, bias=True)\n",
       "  )\n",
       ")"
      ]
     },
     "execution_count": 182,
     "metadata": {},
     "output_type": "execute_result"
    }
   ],
   "source": [
    "class Model9(nn.Module):\n",
    "    def __init__(self, input_size=784, hidden1_size=300, hidden2_size=600, output_size=10):\n",
    "        super(Model9, self).__init__()\n",
    "\n",
    "        # Layers defined in a Sequential container for better organization\n",
    "        self.layers = nn.Sequential(\n",
    "            nn.Linear(input_size, hidden1_size),\n",
    "            nn.ReLU(),\n",
    "            nn.Linear(hidden1_size, hidden2_size),\n",
    "            nn.ReLU(),\n",
    "            nn.Linear(hidden2_size, output_size)\n",
    "        )\n",
    "    \n",
    "    # Forward pass through the network\n",
    "    def forward(self, x):\n",
    "        return self.layers(x)\n",
    "model9=Model9()\n",
    "model9"
   ]
  },
  {
   "cell_type": "code",
   "execution_count": 183,
   "id": "25a597a4",
   "metadata": {},
   "outputs": [
    {
     "name": "stdout",
     "output_type": "stream",
     "text": [
      "422110\n"
     ]
    }
   ],
   "source": [
    "model9params = sum(p.numel() for p in model9.parameters() if p.requires_grad)\n",
    "print(model9params)"
   ]
  },
  {
   "cell_type": "code",
   "execution_count": 184,
   "id": "514016de",
   "metadata": {},
   "outputs": [],
   "source": [
    "criterion9 = nn.CrossEntropyLoss()\n",
    "optimizer9 = torch.optim.Adam(model9.parameters(), lr=0.001)\n",
    "epochs = 10\n",
    "train_correct_mod9, test_correct_mod9 = [], []\n",
    "\n",
    "for epoch in range(epochs):\n",
    "    train_corr, test_corr = 0, 0\n",
    "\n",
    "    # Training phase\n",
    "    for batch_idx, (X_train, y_train) in enumerate(trainLoad):\n",
    "        \n",
    "        # Forward pass through the model\n",
    "        y_pred = model9(X_train.view(X_train.size(0), -1))  \n",
    "        loss = criterion9(y_pred, y_train)\n",
    "\n",
    "        # Count correct predictions\n",
    "        _, predicted = torch.max(y_pred.data, 1)\n",
    "        train_corr += (predicted == y_train).sum()\n",
    "\n",
    "        # Backpropagation and optimizer update\n",
    "        optimizer9.zero_grad()\n",
    "        loss.backward()\n",
    "        optimizer9.step()\n",
    "\n",
    "    # Track training loss and accuracy for the epoch\n",
    "    train_losses_mod9 = loss.detach().numpy()  # Detach and convert to numpy\n",
    "    train_correct_mod9.append(train_corr)\n",
    "\n",
    "    # Testing phase (evaluation)\n",
    "    with torch.no_grad():\n",
    "        for batch_idx, (X_test, y_test) in enumerate(testLoad):\n",
    "\n",
    "            # Forward pass on the test data\n",
    "            y_val = model9(X_test.view(X_test.size(0), -1))\n",
    "\n",
    "            # Count correct predictions\n",
    "            _, predicted = torch.max(y_val.data, 1)\n",
    "            test_corr += (predicted == y_test).sum()\n",
    "\n",
    "    # Track test loss and accuracy for the epoch\n",
    "    loss = criterion9(y_val, y_test)\n",
    "    test_losses_mod9 = loss.detach().numpy()  # Detach and convert to numpy\n",
    "    test_correct_mod9.append(test_corr)\n",
    "       "
   ]
  },
  {
   "cell_type": "code",
   "execution_count": 185,
   "id": "2b2c0247",
   "metadata": {},
   "outputs": [
    {
     "name": "stdout",
     "output_type": "stream",
     "text": [
      "tensor(99.3683)\n",
      "tensor(97.8400)\n"
     ]
    }
   ],
   "source": [
    "for t in train_correct_mod9:\n",
    "    trn_accu_mod9=t/600\n",
    "    \n",
    "print(trn_accu_mod9)\n",
    "for t in test_correct_mod9:\n",
    "    tst_accu_mod9=t/100\n",
    "    \n",
    "print(tst_accu_mod9)"
   ]
  },
  {
   "cell_type": "code",
   "execution_count": 186,
   "id": "8e765abb",
   "metadata": {},
   "outputs": [
    {
     "data": {
      "text/plain": [
       "Model10(\n",
       "  (layers): Sequential(\n",
       "    (0): Linear(in_features=784, out_features=500, bias=True)\n",
       "    (1): ReLU()\n",
       "    (2): Linear(in_features=500, out_features=800, bias=True)\n",
       "    (3): ReLU()\n",
       "    (4): Linear(in_features=800, out_features=10, bias=True)\n",
       "  )\n",
       ")"
      ]
     },
     "execution_count": 186,
     "metadata": {},
     "output_type": "execute_result"
    }
   ],
   "source": [
    "class Model10(nn.Module):\n",
    "    def __init__(self, input_size=784, hidden1_size=500, hidden2_size=800, output_size=10):\n",
    "        super(Model10, self).__init__()\n",
    "\n",
    "        # Layers defined in a Sequential container for better organization\n",
    "        self.layers = nn.Sequential(\n",
    "            nn.Linear(input_size, hidden1_size),\n",
    "            nn.ReLU(),\n",
    "            nn.Linear(hidden1_size, hidden2_size),\n",
    "            nn.ReLU(),\n",
    "            nn.Linear(hidden2_size, output_size)\n",
    "        )\n",
    "    \n",
    "    # Forward pass through the network\n",
    "    def forward(self, x):\n",
    "        return self.layers(x)\n",
    "model10=Model10()\n",
    "model10"
   ]
  },
  {
   "cell_type": "code",
   "execution_count": 187,
   "id": "9abc5e68",
   "metadata": {},
   "outputs": [
    {
     "name": "stdout",
     "output_type": "stream",
     "text": [
      "801310\n"
     ]
    }
   ],
   "source": [
    "model10params = sum(p.numel() for p in model10.parameters() if p.requires_grad)\n",
    "print(model10params)"
   ]
  },
  {
   "cell_type": "code",
   "execution_count": 188,
   "id": "f5286194",
   "metadata": {},
   "outputs": [],
   "source": [
    "criterion10 = nn.CrossEntropyLoss()\n",
    "optimizer10 = torch.optim.Adam(model10.parameters(), lr=0.001)\n",
    "epochs = 10\n",
    "train_correct_mod10, test_correct_mod10 = [], []\n",
    "\n",
    "for epoch in range(epochs):\n",
    "    train_corr, test_corr = 0, 0\n",
    "\n",
    "    # Training phase\n",
    "    for batch_idx, (X_train, y_train) in enumerate(trainLoad):\n",
    "        \n",
    "        # Forward pass through the model\n",
    "        y_pred = model10(X_train.view(X_train.size(0), -1))  \n",
    "        loss = criterion10(y_pred, y_train)\n",
    "\n",
    "        # Count correct predictions\n",
    "        _, predicted = torch.max(y_pred.data, 1)\n",
    "        train_corr += (predicted == y_train).sum()\n",
    "\n",
    "        # Backpropagation and optimizer update\n",
    "        optimizer10.zero_grad()\n",
    "        loss.backward()\n",
    "        optimizer10.step()\n",
    "\n",
    "    # Track training loss and accuracy for the epoch\n",
    "    train_losses_mod10 = loss.detach().numpy()  # Detach and convert to numpy\n",
    "    train_correct_mod10.append(train_corr)\n",
    "\n",
    "    # Testing phase (evaluation)\n",
    "    with torch.no_grad():\n",
    "        for batch_idx, (X_test, y_test) in enumerate(testLoad):\n",
    "\n",
    "            # Forward pass on the test data\n",
    "            y_val = model10(X_test.view(X_test.size(0), -1))\n",
    "\n",
    "            # Count correct predictions\n",
    "            _, predicted = torch.max(y_val.data, 1)\n",
    "            test_corr += (predicted == y_test).sum()\n",
    "\n",
    "    # Track test loss and accuracy for the epoch\n",
    "    loss = criterion10(y_val, y_test)\n",
    "    test_losses_mod10 = loss.detach().numpy()  # Detach and convert to numpy\n",
    "    test_correct_mod10.append(test_corr)\n",
    "       \n",
    "        "
   ]
  },
  {
   "cell_type": "code",
   "execution_count": 189,
   "id": "cf41f249",
   "metadata": {},
   "outputs": [
    {
     "name": "stdout",
     "output_type": "stream",
     "text": [
      "tensor(99.5550)\n",
      "tensor(98.0600)\n"
     ]
    }
   ],
   "source": [
    "for t in train_correct_mod10:\n",
    "    trn_accu_mod10=t/600\n",
    "    \n",
    "print(trn_accu_mod10)\n",
    "for t in test_correct_mod10:\n",
    "    tst_accu_mod10=t/100\n",
    "    \n",
    "print(tst_accu_mod10)"
   ]
  },
  {
   "cell_type": "code",
   "execution_count": 190,
   "id": "d4297045",
   "metadata": {},
   "outputs": [
    {
     "data": {
      "image/png": "[encoded data removed]",
      "text/plain": [
       "<Figure size 640x480 with 1 Axes>"
      ]
     },
     "metadata": {},
     "output_type": "display_data"
    }
   ],
   "source": [
    "# Ensure all tensors are detached and converted to NumPy before plotting\n",
    "\n",
    "# Training Loss\n",
    "plt.scatter(model1params, train_losses_mod1.detach().numpy() if torch.is_tensor(train_losses_mod1) else train_losses_mod1, c='b', label='Train')\n",
    "plt.scatter(model2params, train_losses_mod2.detach().numpy() if torch.is_tensor(train_losses_mod2) else train_losses_mod2, c='b')\n",
    "plt.scatter(model3params, train_losses_mod3.detach().numpy() if torch.is_tensor(train_losses_mod3) else train_losses_mod3, c='b')\n",
    "plt.scatter(model4params, train_losses_mod4.detach().numpy() if torch.is_tensor(train_losses_mod4) else train_losses_mod4, c='b')\n",
    "plt.scatter(model5params, train_losses_mod5.detach().numpy() if torch.is_tensor(train_losses_mod5) else train_losses_mod5, c='b')\n",
    "plt.scatter(model6params, train_losses_mod6.detach().numpy() if torch.is_tensor(train_losses_mod6) else train_losses_mod6, c='b')\n",
    "plt.scatter(model7params, train_losses_mod7.detach().numpy() if torch.is_tensor(train_losses_mod7) else train_losses_mod7, c='b')\n",
    "plt.scatter(model8params, train_losses_mod8.detach().numpy() if torch.is_tensor(train_losses_mod8) else train_losses_mod8, c='b')\n",
    "plt.scatter(model9params, train_losses_mod9.detach().numpy() if torch.is_tensor(train_losses_mod9) else train_losses_mod9, c='b')\n",
    "plt.scatter(model10params, train_losses_mod10.detach().numpy() if torch.is_tensor(train_losses_mod10) else train_losses_mod10, c='b')\n",
    "\n",
    "# Testing Loss\n",
    "plt.scatter(model1params, test_losses_mod1.detach().numpy() if torch.is_tensor(test_losses_mod1) else test_losses_mod1, c='r', label='Test')\n",
    "plt.scatter(model2params, test_losses_mod2.detach().numpy() if torch.is_tensor(test_losses_mod2) else test_losses_mod2, c='r')\n",
    "plt.scatter(model3params, test_losses_mod3.detach().numpy() if torch.is_tensor(test_losses_mod3) else test_losses_mod3, c='r')\n",
    "plt.scatter(model4params, test_losses_mod4.detach().numpy() if torch.is_tensor(test_losses_mod4) else test_losses_mod4, c='r')\n",
    "plt.scatter(model5params, test_losses_mod5.detach().numpy() if torch.is_tensor(test_losses_mod5) else test_losses_mod5, c='r')\n",
    "plt.scatter(model6params, test_losses_mod6.detach().numpy() if torch.is_tensor(test_losses_mod6) else test_losses_mod6, c='r')\n",
    "plt.scatter(model7params, test_losses_mod7.detach().numpy() if torch.is_tensor(test_losses_mod7) else test_losses_mod7, c='r')\n",
    "plt.scatter(model8params, test_losses_mod8.detach().numpy() if torch.is_tensor(test_losses_mod8) else test_losses_mod8, c='r')\n",
    "plt.scatter(model9params, test_losses_mod9.detach().numpy() if torch.is_tensor(test_losses_mod9) else test_losses_mod9, c='r')\n",
    "plt.scatter(model10params, test_losses_mod10.detach().numpy() if torch.is_tensor(test_losses_mod10) else test_losses_mod10, c='r')\n",
    "\n",
    "plt.title(\"Loss of Models\")\n",
    "plt.xlabel(\"Number of Parameters\")\n",
    "plt.ylabel(\"Loss\")\n",
    "plt.legend(loc=\"upper right\")\n",
    "plt.show()\n"
   ]
  },
  {
   "cell_type": "code",
   "execution_count": 191,
   "id": "7ab50e77",
   "metadata": {},
   "outputs": [
    {
     "data": {
      "image/png": "[encoded data removed]",
      "text/plain": [
       "<Figure size 640x480 with 1 Axes>"
      ]
     },
     "metadata": {},
     "output_type": "display_data"
    }
   ],
   "source": [
    "# Define the models and their accuracies in a loop for better organization\n",
    "train_accuracies = [\n",
    "    trn_accu_mod1, trn_accu_mod2, trn_accu_mod3, trn_accu_mod4,\n",
    "    trn_accu_mod5, trn_accu_mod6, trn_accu_mod7, trn_accu_mod8,\n",
    "    trn_accu_mod9, trn_accu_mod10\n",
    "]\n",
    "\n",
    "test_accuracies = [\n",
    "    tst_accu_mod1, tst_accu_mod2, tst_accu_mod3, tst_accu_mod4,\n",
    "    tst_accu_mod5, tst_accu_mod6, tst_accu_mod7, tst_accu_mod8,\n",
    "    tst_accu_mod9, tst_accu_mod10\n",
    "]\n",
    "\n",
    "model_params = [\n",
    "    model1params, model2params, model3params, model4params,\n",
    "    model5params, model6params, model7params, model8params,\n",
    "    model9params, model10params\n",
    "]\n",
    "\n",
    "# Plot Training Accuracy\n",
    "for i, param in enumerate(model_params):\n",
    "    plt.scatter(param, train_accuracies[i], c='b', label='Train' if i == 0 else \"\")\n",
    "\n",
    "# Plot Testing Accuracy\n",
    "for i, param in enumerate(model_params):\n",
    "    plt.scatter(param, test_accuracies[i], c='r', label='Test' if i == 0 else \"\")\n",
    "\n",
    "# Add plot labels and legend\n",
    "plt.title(\"Models Accuracy\")\n",
    "plt.xlabel(\"Number of Parameters\")\n",
    "plt.ylabel(\"Accuracy\")\n",
    "plt.legend(loc=\"upper right\")\n",
    "plt.show()\n"
   ]
  },
  {
   "cell_type": "code",
   "execution_count": null,
   "id": "e6cf4b2a",
   "metadata": {},
   "outputs": [],
   "source": []
  }
 ],
 "metadata": {
  "kernelspec": {
   "display_name": "Python 3 (ipykernel)",
   "language": "python",
   "name": "python3"
  },
  "language_info": {
   "codemirror_mode": {
    "name": "ipython",
    "version": 3
   },
   "file_extension": ".py",
   "mimetype": "text/x-python",
   "name": "python",
   "nbconvert_exporter": "python",
   "pygments_lexer": "ipython3",
   "version": "3.11.5"
  }
 },
 "nbformat": 4,
 "nbformat_minor": 5
}
