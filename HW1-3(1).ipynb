{
 "cells": [
  {
   "cell_type": "code",
   "execution_count": 1,
   "id": "41e10fd5-4f8e-45b3-bc42-7cd2a988e709",
   "metadata": {
    "tags": []
   },
   "outputs": [],
   "source": [
    "import torch\n",
    "import torch.nn as nn\n",
    "import torch.optim as optim\n",
    "from torchvision import datasets, transforms\n",
    "from torch.autograd import Variable\n",
    "from PIL import Image\n",
    "import torch.nn.functional as F\n",
    "import numpy as np\n",
    "import matplotlib.pyplot as plt\n",
    "import os\n",
    "os.environ['KMP_DUPLICATE_LIB_OK'] = 'True'"
   ]
  },
  {
   "cell_type": "code",
   "execution_count": 2,
   "id": "1630fccb-41cd-45e1-901c-b9959d10274e",
   "metadata": {
    "tags": []
   },
   "outputs": [
    {
     "data": {
      "text/plain": [
       "<torch._C.Generator at 0x7ff3781c1cd0>"
      ]
     },
     "execution_count": 2,
     "metadata": {},
     "output_type": "execute_result"
    }
   ],
   "source": [
    "torch.manual_seed(1)\n",
    "\n"
   ]
  },
  {
   "cell_type": "code",
   "execution_count": 3,
   "id": "e4d68523-1cd0-4b3a-8431-df79e4719151",
   "metadata": {
    "tags": []
   },
   "outputs": [],
   "source": [
    "def load_data(train_batch_size, test_batch_size):\n",
    "    trainset = datasets.MNIST('data', train=True, download=False,\n",
    "                              transform=transforms.Compose([\n",
    "                                  transforms.Resize((32, 32)),\n",
    "                                  transforms.ToTensor(),\n",
    "                                  transforms.Normalize((0.1307,), (0.3081,))\n",
    "                              ]))\n",
    "    temp = torch.tensor(np.random.randint(0, 10, (len(trainset)),))\n",
    "    trainset.targets = temp\n",
    "    train_loader = torch.utils.data.DataLoader(trainset, batch_size=train_batch_size, shuffle=True)\n",
    "\n",
    "    testset = datasets.MNIST('data', train=False,\n",
    "                             transform=transforms.Compose([\n",
    "                                 transforms.Resize((32, 32)),\n",
    "                                 transforms.ToTensor(),\n",
    "                                 transforms.Normalize((0.1307,), (0.3081,))\n",
    "                             ]))\n",
    "    test_loader = torch.utils.data.DataLoader(testset, batch_size=test_batch_size, shuffle=True)\n",
    "\n",
    "    return train_loader, test_loader"
   ]
  },
  {
   "cell_type": "code",
   "execution_count": 4,
   "id": "8ad3053c-a0ca-4b8b-a7b6-0609403b2855",
   "metadata": {
    "tags": []
   },
   "outputs": [],
   "source": [
    "class CNN(nn.Module):\n",
    "    def __init__(self):\n",
    "        super(CNN, self).__init__()\n",
    "        self.conv1 = nn.Conv2d(1, 6, 5)\n",
    "        self.conv2 = nn.Conv2d(6, 16, 5)\n",
    "        self.fc1 = nn.Linear(16 * 5 * 5, 120)\n",
    "        self.fc2 = nn.Linear(120, 84)\n",
    "        self.fc3 = nn.Linear(84, 10)\n",
    "\n",
    "    def forward(self, x):\n",
    "        x = F.max_pool2d(F.relu(self.conv1(x)), 2)\n",
    "        x = F.max_pool2d(F.relu(self.conv2(x)), 2)\n",
    "        x = x.view(x.size()[0], -1)\n",
    "        x = F.relu(self.fc1(x))\n",
    "        x = F.relu(self.fc2(x))\n",
    "        x = self.fc3(x)\n",
    "        return x\n"
   ]
  },
  {
   "cell_type": "code",
   "execution_count": 5,
   "id": "c591dea0-aebc-44a2-9239-7f791124f4c0",
   "metadata": {
    "tags": []
   },
   "outputs": [],
   "source": [
    "def train(model, optimizer, train_loader):\n",
    "    model.train()\n",
    "    correct = 0\n",
    "    train_loss = 0\n",
    "\n",
    "    for batch_idx, (data, target) in enumerate(train_loader):\n",
    "        data, target = Variable(data), Variable(target)\n",
    "        optimizer.zero_grad()\n",
    "\n",
    "        # Forward propagation\n",
    "        output = model(data)\n",
    "        loss = loss_fn(output, target)\n",
    "        loss.backward()\n",
    "        optimizer.step()\n",
    "\n",
    "        train_loss += loss.data\n",
    "        pred = np.argmax(output.data, axis=1)\n",
    "        correct += np.equal(pred, target.data).sum()\n",
    "\n",
    "    train_loss = (train_loss * 100) / len(train_loader.dataset)\n",
    "    acc = 100.0 * correct / len(train_loader.dataset)\n",
    "    return train_loss, acc"
   ]
  },
  {
   "cell_type": "code",
   "execution_count": 6,
   "id": "9beac2d2-6be4-4ca7-8ea0-135ab792c646",
   "metadata": {
    "tags": []
   },
   "outputs": [],
   "source": [
    "def test(model, epoch, test_loader):\n",
    "    model.eval()\n",
    "    test_loss = 0\n",
    "    correct = 0\n",
    "\n",
    "    for data, target in test_loader:\n",
    "        data, target = Variable(data), Variable(target)\n",
    "        output = model(data)\n",
    "        loss = loss_fn(output, target)\n",
    "        test_loss += loss.data\n",
    "\n",
    "        pred = np.argmax(output.data, axis=1)\n",
    "        correct += np.equal(pred, target.data).sum()\n",
    "\n",
    "    test_loss = (test_loss * 100) / len(test_loader.dataset)\n",
    "    return test_loss\n"
   ]
  },
  {
   "cell_type": "code",
   "execution_count": 7,
   "id": "00ff94be-9d04-4490-95b7-7d2405a37398",
   "metadata": {
    "tags": []
   },
   "outputs": [
    {
     "name": "stdout",
     "output_type": "stream",
     "text": [
      "Epoch 1, Train Loss: 2.303112030029297, Test Loss: 3.6174981594085693\n",
      "Epoch 2, Train Loss: 2.3023221492767334, Test Loss: 3.621344804763794\n",
      "Epoch 3, Train Loss: 2.3018741607666016, Test Loss: 3.6188902854919434\n",
      "Epoch 4, Train Loss: 2.3013741970062256, Test Loss: 3.6224381923675537\n",
      "Epoch 5, Train Loss: 2.3007454872131348, Test Loss: 3.627885103225708\n",
      "Epoch 6, Train Loss: 2.2998852729797363, Test Loss: 3.624145269393921\n",
      "Epoch 7, Train Loss: 2.2989208698272705, Test Loss: 3.627685070037842\n",
      "Epoch 8, Train Loss: 2.2976443767547607, Test Loss: 3.627434730529785\n",
      "Epoch 9, Train Loss: 2.2961971759796143, Test Loss: 3.638810634613037\n",
      "Epoch 10, Train Loss: 2.294741630554199, Test Loss: 3.6368820667266846\n",
      "Epoch 11, Train Loss: 2.292922019958496, Test Loss: 3.631753444671631\n",
      "Epoch 12, Train Loss: 2.2908456325531006, Test Loss: 3.6456100940704346\n",
      "Epoch 13, Train Loss: 2.288675546646118, Test Loss: 3.6570632457733154\n",
      "Epoch 14, Train Loss: 2.286256790161133, Test Loss: 3.648157835006714\n",
      "Epoch 15, Train Loss: 2.2837021350860596, Test Loss: 3.6367321014404297\n",
      "Epoch 16, Train Loss: 2.2813010215759277, Test Loss: 3.666987895965576\n",
      "Epoch 17, Train Loss: 2.2785186767578125, Test Loss: 3.6790902614593506\n",
      "Epoch 18, Train Loss: 2.275913715362549, Test Loss: 3.6935441493988037\n",
      "Epoch 19, Train Loss: 2.2726809978485107, Test Loss: 3.6819398403167725\n",
      "Epoch 20, Train Loss: 2.26971697807312, Test Loss: 3.6619527339935303\n",
      "Epoch 21, Train Loss: 2.2668750286102295, Test Loss: 3.7000722885131836\n",
      "Epoch 22, Train Loss: 2.2637312412261963, Test Loss: 3.697084426879883\n",
      "Epoch 23, Train Loss: 2.260535717010498, Test Loss: 3.719877243041992\n",
      "Epoch 24, Train Loss: 2.2564220428466797, Test Loss: 3.6919031143188477\n",
      "Epoch 25, Train Loss: 2.253779172897339, Test Loss: 3.6996588706970215\n",
      "Epoch 26, Train Loss: 2.2496845722198486, Test Loss: 3.7264530658721924\n",
      "Epoch 27, Train Loss: 2.2458889484405518, Test Loss: 3.7081284523010254\n",
      "Epoch 28, Train Loss: 2.2424850463867188, Test Loss: 3.721935510635376\n",
      "Epoch 29, Train Loss: 2.2387077808380127, Test Loss: 3.6944875717163086\n",
      "Epoch 30, Train Loss: 2.234966516494751, Test Loss: 3.7468743324279785\n",
      "Epoch 31, Train Loss: 2.2311863899230957, Test Loss: 3.7501847743988037\n",
      "Epoch 32, Train Loss: 2.22662615776062, Test Loss: 3.7499895095825195\n",
      "Epoch 33, Train Loss: 2.2234458923339844, Test Loss: 3.7639429569244385\n",
      "Epoch 34, Train Loss: 2.219805955886841, Test Loss: 3.8070571422576904\n",
      "Epoch 35, Train Loss: 2.2158408164978027, Test Loss: 3.807607412338257\n",
      "Epoch 36, Train Loss: 2.211315393447876, Test Loss: 3.785508155822754\n",
      "Epoch 37, Train Loss: 2.207357883453369, Test Loss: 3.79740309715271\n",
      "Epoch 38, Train Loss: 2.2033982276916504, Test Loss: 3.7330586910247803\n",
      "Epoch 39, Train Loss: 2.2000062465667725, Test Loss: 3.797032117843628\n",
      "Epoch 40, Train Loss: 2.196211099624634, Test Loss: 3.7824597358703613\n",
      "Epoch 41, Train Loss: 2.192054271697998, Test Loss: 3.7837226390838623\n",
      "Epoch 42, Train Loss: 2.1880688667297363, Test Loss: 3.8445088863372803\n",
      "Epoch 43, Train Loss: 2.184218645095825, Test Loss: 3.797142267227173\n",
      "Epoch 44, Train Loss: 2.1795265674591064, Test Loss: 3.788299560546875\n",
      "Epoch 45, Train Loss: 2.176112174987793, Test Loss: 3.8055617809295654\n",
      "Epoch 46, Train Loss: 2.1715574264526367, Test Loss: 3.8431901931762695\n",
      "Epoch 47, Train Loss: 2.167752265930176, Test Loss: 3.8779101371765137\n",
      "Epoch 48, Train Loss: 2.1641299724578857, Test Loss: 3.8137340545654297\n",
      "Epoch 49, Train Loss: 2.159335136413574, Test Loss: 3.844524621963501\n",
      "Epoch 50, Train Loss: 2.154956579208374, Test Loss: 3.862757444381714\n",
      "Epoch 51, Train Loss: 2.1522679328918457, Test Loss: 3.815279722213745\n",
      "Epoch 52, Train Loss: 2.148160696029663, Test Loss: 3.8899483680725098\n",
      "Epoch 53, Train Loss: 2.143914222717285, Test Loss: 3.877139091491699\n",
      "Epoch 54, Train Loss: 2.1392855644226074, Test Loss: 3.8770370483398438\n",
      "Epoch 55, Train Loss: 2.1353073120117188, Test Loss: 3.8660194873809814\n",
      "Epoch 56, Train Loss: 2.1318230628967285, Test Loss: 3.8875348567962646\n",
      "Epoch 57, Train Loss: 2.128516674041748, Test Loss: 3.895181655883789\n",
      "Epoch 58, Train Loss: 2.124467611312866, Test Loss: 3.8514559268951416\n",
      "Epoch 59, Train Loss: 2.120365858078003, Test Loss: 3.9245269298553467\n",
      "Epoch 60, Train Loss: 2.116217851638794, Test Loss: 3.9137063026428223\n",
      "Epoch 61, Train Loss: 2.1120445728302, Test Loss: 3.9076011180877686\n",
      "Epoch 62, Train Loss: 2.1090245246887207, Test Loss: 3.9191980361938477\n",
      "Epoch 63, Train Loss: 2.1044249534606934, Test Loss: 3.9388136863708496\n",
      "Epoch 64, Train Loss: 2.1002445220947266, Test Loss: 3.949293375015259\n",
      "Epoch 65, Train Loss: 2.0970656871795654, Test Loss: 3.9464125633239746\n",
      "Epoch 66, Train Loss: 2.0931830406188965, Test Loss: 3.993072748184204\n",
      "Epoch 67, Train Loss: 2.089082717895508, Test Loss: 3.9258761405944824\n",
      "Epoch 68, Train Loss: 2.0849127769470215, Test Loss: 3.9236764907836914\n",
      "Epoch 69, Train Loss: 2.082336902618408, Test Loss: 4.009287357330322\n",
      "Epoch 70, Train Loss: 2.0772411823272705, Test Loss: 3.9030463695526123\n",
      "Epoch 71, Train Loss: 2.07416033744812, Test Loss: 3.9763998985290527\n",
      "Epoch 72, Train Loss: 2.0716781616210938, Test Loss: 4.016255855560303\n",
      "Epoch 73, Train Loss: 2.065932035446167, Test Loss: 3.9827001094818115\n",
      "Epoch 74, Train Loss: 2.063762664794922, Test Loss: 3.9505882263183594\n",
      "Epoch 75, Train Loss: 2.059197425842285, Test Loss: 4.068122863769531\n",
      "Epoch 76, Train Loss: 2.0561130046844482, Test Loss: 3.9992833137512207\n",
      "Epoch 77, Train Loss: 2.0514330863952637, Test Loss: 3.958432912826538\n",
      "Epoch 78, Train Loss: 2.0480363368988037, Test Loss: 4.039968967437744\n",
      "Epoch 79, Train Loss: 2.044475793838501, Test Loss: 4.104776382446289\n",
      "Epoch 80, Train Loss: 2.0414130687713623, Test Loss: 4.048498630523682\n",
      "Epoch 81, Train Loss: 2.0370826721191406, Test Loss: 4.043425559997559\n",
      "Epoch 82, Train Loss: 2.0328001976013184, Test Loss: 3.9873976707458496\n",
      "Epoch 83, Train Loss: 2.030654191970825, Test Loss: 4.0837531089782715\n",
      "Epoch 84, Train Loss: 2.0272610187530518, Test Loss: 4.046431064605713\n",
      "Epoch 85, Train Loss: 2.0226547718048096, Test Loss: 4.050084590911865\n",
      "Epoch 86, Train Loss: 2.0171608924865723, Test Loss: 4.126640796661377\n",
      "Epoch 87, Train Loss: 2.016282796859741, Test Loss: 4.066830158233643\n",
      "Epoch 88, Train Loss: 2.0128934383392334, Test Loss: 4.0501275062561035\n",
      "Epoch 89, Train Loss: 2.0081660747528076, Test Loss: 4.177896022796631\n",
      "Epoch 90, Train Loss: 2.005626678466797, Test Loss: 4.143477916717529\n",
      "Epoch 91, Train Loss: 2.0020229816436768, Test Loss: 4.132765769958496\n",
      "Epoch 92, Train Loss: 1.9982495307922363, Test Loss: 4.0853800773620605\n",
      "Epoch 93, Train Loss: 1.995320200920105, Test Loss: 4.156506061553955\n",
      "Epoch 94, Train Loss: 1.9922561645507812, Test Loss: 4.0921759605407715\n",
      "Epoch 95, Train Loss: 1.989054560661316, Test Loss: 4.112407684326172\n",
      "Epoch 96, Train Loss: 1.9858309030532837, Test Loss: 4.083140850067139\n",
      "Epoch 97, Train Loss: 1.9819142818450928, Test Loss: 4.125490188598633\n",
      "Epoch 98, Train Loss: 1.9782582521438599, Test Loss: 4.178874492645264\n",
      "Epoch 99, Train Loss: 1.9751548767089844, Test Loss: 4.245397567749023\n",
      "Epoch 100, Train Loss: 1.9716218709945679, Test Loss: 4.18263578414917\n"
     ]
    }
   ],
   "source": [
    "train_batch_size = 100\n",
    "test_batch_size = 64\n",
    "train_loader, test_loader = load_data(train_batch_size, test_batch_size)\n",
    "\n",
    "model = CNN()\n",
    "optimizer = optim.Adam(model.parameters(), lr=0.0001)\n",
    "loss_fn = torch.nn.CrossEntropyLoss()\n",
    "\n",
    "m1_train_loss_arr = []\n",
    "m1_test_loss_arr = []\n",
    "\n",
    "epochs = 100\n",
    "for epoch in range(1, epochs + 1):\n",
    "    tr_loss, acc = train(model, optimizer, train_loader)\n",
    "    m1_train_loss_arr.append(tr_loss)\n",
    "    loss_test = test(model, epoch, test_loader)\n",
    "    m1_test_loss_arr.append(loss_test)\n",
    "    print(f'Epoch {epoch}, Train Loss: {tr_loss}, Test Loss: {loss_test}')"
   ]
  },
  {
   "cell_type": "code",
   "execution_count": 8,
   "id": "95b6f6f1-2cf7-4a09-a950-172eda3d51df",
   "metadata": {
    "tags": []
   },
   "outputs": [],
   "source": [
    "temp_1 = np.array(m1_train_loss_arr)\n",
    "temp_2 = np.array(m1_test_loss_arr)"
   ]
  },
  {
   "cell_type": "code",
   "execution_count": 9,
   "id": "1d1021f8-0953-4599-a383-c120cf2e543b",
   "metadata": {
    "tags": []
   },
   "outputs": [
    {
     "data": {
      "image/png": "[encoded data removed]",
      "text/plain": [
       "<Figure size 800x500 with 1 Axes>"
      ]
     },
     "metadata": {},
     "output_type": "display_data"
    }
   ],
   "source": [
    "# Plot the loss values similar to your screenshot\n",
    "plt.figure(figsize=(8, 5))\n",
    "plt.plot(np.arange(0, len(temp_1), 1), temp_1, color=\"b\", label=\"Train Loss\")\n",
    "plt.plot(np.arange(0, len(temp_2), 1), temp_2, color=\"orange\", label=\"Test Loss\")\n",
    "plt.title('Model Loss Comparison')\n",
    "plt.legend()\n",
    "plt.xlabel('Epoch')\n",
    "plt.ylabel('Loss')\n",
    "plt.grid(True)\n",
    "plt.show()"
   ]
  },
  {
   "cell_type": "code",
   "execution_count": null,
   "id": "d7deaad8-855c-4e58-b807-d8475c63294d",
   "metadata": {},
   "outputs": [],
   "source": []
  }
 ],
 "metadata": {
  "kernelspec": {
   "display_name": "Python 3 (ipykernel)",
   "language": "python",
   "name": "python3"
  },
  "language_info": {
   "codemirror_mode": {
    "name": "ipython",
    "version": 3
   },
   "file_extension": ".py",
   "mimetype": "text/x-python",
   "name": "python",
   "nbconvert_exporter": "python",
   "pygments_lexer": "ipython3",
   "version": "3.11.5"
  }
 },
 "nbformat": 4,
 "nbformat_minor": 5
}
