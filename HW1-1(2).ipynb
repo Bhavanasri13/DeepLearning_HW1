{
 "cells": [
  {
   "cell_type": "code",
   "execution_count": 11,
   "id": "a1520a66",
   "metadata": {
    "tags": []
   },
   "outputs": [],
   "source": [
    "import torch\n",
    "import torch.nn as nn\n",
    "import torch.nn.functional as F\n",
    "from torch.utils.data import DataLoader\n",
    "from torchvision import datasets, transforms\n",
    "\n",
    "import numpy as np\n",
    "import pandas as pd\n",
    "import matplotlib.pyplot as plt\n",
    "%matplotlib inline"
   ]
  },
  {
   "cell_type": "code",
   "execution_count": 12,
   "id": "de2be9e8",
   "metadata": {
    "tags": []
   },
   "outputs": [],
   "source": [
    "data_transform = transforms.ToTensor()\n",
    "# Load the MNIST training dataset\n",
    "mnist_train_dataset = datasets.MNIST(root='C:\\\\Users\\\\harshi\\\\dataset\\\\mnist_train', train=True, download=True, transform=data_transform)\n",
    "# Load the MNIST testing dataset\n",
    "mnist_test_dataset = datasets.MNIST(root='C:\\\\Users\\\\harshi\\\\dataset\\\\mnist_test', train=False, download=True, transform=data_transform)"
   ]
  },
  {
   "cell_type": "code",
   "execution_count": 13,
   "id": "6a13d304",
   "metadata": {
    "tags": []
   },
   "outputs": [
    {
     "data": {
      "text/plain": [
       "Dataset MNIST\n",
       "    Number of datapoints: 60000\n",
       "    Root location: C:\\Users\\harshi\\dataset\\mnist_train\n",
       "    Split: Train\n",
       "    StandardTransform\n",
       "Transform: ToTensor()"
      ]
     },
     "execution_count": 13,
     "metadata": {},
     "output_type": "execute_result"
    }
   ],
   "source": [
    "mnist_train_dataset"
   ]
  },
  {
   "cell_type": "code",
   "execution_count": 14,
   "id": "9a3b753d",
   "metadata": {
    "tags": []
   },
   "outputs": [
    {
     "data": {
      "text/plain": [
       "Dataset MNIST\n",
       "    Number of datapoints: 10000\n",
       "    Root location: C:\\Users\\harshi\\dataset\\mnist_test\n",
       "    Split: Test\n",
       "    StandardTransform\n",
       "Transform: ToTensor()"
      ]
     },
     "execution_count": 14,
     "metadata": {},
     "output_type": "execute_result"
    }
   ],
   "source": [
    "mnist_test_dataset"
   ]
  },
  {
   "cell_type": "code",
   "execution_count": 15,
   "id": "b674ddd7",
   "metadata": {
    "tags": []
   },
   "outputs": [],
   "source": [
    "# Set up the data loaders with new variable names\n",
    "bs = 10\n",
    "\n",
    "# Training data loader with shuffle enabled\n",
    "mnist_train_loader = DataLoader(mnist_train_dataset, batch_size=bs, shuffle=True)\n",
    "\n",
    "# Test data loader without shuffling\n",
    "mnist_test_loader = DataLoader(mnist_test_dataset, batch_size=bs, shuffle=False)\n",
    "# Define the first and second convolutional layers with new variable names\n",
    "conv_layer1 = nn.Conv2d(in_channels=1, out_channels=8, kernel_size=3, stride=1)\n",
    "conv_layer2 = nn.Conv2d(in_channels=8, out_channels=18, kernel_size=3, stride=1)\n",
    "conv_layer3= nn.Conv2d(in_channels=18, out_channels=20, kernel_size=3, stride=1)"
   ]
  },
  {
   "cell_type": "code",
   "execution_count": 16,
   "id": "5cf1e335",
   "metadata": {
    "tags": []
   },
   "outputs": [],
   "source": [
    "class CNNModel(nn.Module):\n",
    "    def __init__(self):\n",
    "        super(CNNModel, self).__init__()\n",
    "        # Define the convolutional layers\n",
    "        self.conv_layer1 = nn.Conv2d(in_channels=1, out_channels=8, kernel_size=3, stride=1)\n",
    "        self.conv_layer2 = nn.Conv2d(in_channels=8, out_channels=18, kernel_size=3, stride=1)\n",
    "        self.conv_layer3= nn.Conv2d(in_channels=18, out_channels=20, kernel_size=3, stride=1)\n",
    "        \n",
    "        # Define the fully connected layers\n",
    "        self.fc_layer1 = nn.Linear(in_features=5*5*18, out_features=18)\n",
    "        self.fc_layer2 = nn.Linear(in_features=18, out_features=20)\n",
    "        self.fc_layer3=nn.Linear(in_features=20, out_features=10)\n",
    "\n",
    "    def forward(self, input_tensor):\n",
    "        # Apply first convolutional layer and ReLU activation\n",
    "        x = F.relu(self.conv_layer1(input_tensor))\n",
    "        \n",
    "        # Apply max pooling\n",
    "        x = F.max_pool2d(x, kernel_size=2, stride=2)\n",
    "        \n",
    "        # Apply second convolutional layer and ReLU activation\n",
    "        x = F.relu(self.conv_layer2(x))\n",
    "        \n",
    "        # Apply max pooling again\n",
    "        x = F.max_pool2d(x, kernel_size=2, stride=2)\n",
    "        \n",
    "        # Flatten the output from the convolutional layers\n",
    "        x = x.view(-1, 5*5*18)\n",
    "        \n",
    "        # Apply first fully connected layer with ReLU activation\n",
    "        x = F.relu(self.fc_layer1(x))\n",
    "        \n",
    "        # Apply second fully connected layer (output layer)\n",
    "        x = self.fc_layer2(x)\n",
    "        \n",
    "        # Apply log softmax for output classification\n",
    "        return F.log_softmax(x, dim=1)\n"
   ]
  },
  {
   "cell_type": "code",
   "execution_count": 17,
   "id": "c7a17cc1",
   "metadata": {
    "tags": []
   },
   "outputs": [
    {
     "data": {
      "text/plain": [
       "CNNModel(\n",
       "  (conv_layer1): Conv2d(1, 8, kernel_size=(3, 3), stride=(1, 1))\n",
       "  (conv_layer2): Conv2d(8, 18, kernel_size=(3, 3), stride=(1, 1))\n",
       "  (conv_layer3): Conv2d(18, 20, kernel_size=(3, 3), stride=(1, 1))\n",
       "  (fc_layer1): Linear(in_features=450, out_features=18, bias=True)\n",
       "  (fc_layer2): Linear(in_features=18, out_features=20, bias=True)\n",
       "  (fc_layer3): Linear(in_features=20, out_features=10, bias=True)\n",
       ")"
      ]
     },
     "execution_count": 17,
     "metadata": {},
     "output_type": "execute_result"
    }
   ],
   "source": [
    "# Instantiate the CNN model using the new class\n",
    "cnn_model_instance = CNNModel()\n",
    "\n",
    "# Output the model architecture\n",
    "cnn_model_instance\n"
   ]
  },
  {
   "cell_type": "code",
   "execution_count": 18,
   "id": "7ff76e74",
   "metadata": {
    "tags": []
   },
   "outputs": [],
   "source": [
    "# Define the loss function (CrossEntropyLoss)\n",
    "loss_function = nn.CrossEntropyLoss()\n",
    "\n",
    "# Set up the optimizer (Adam) with the model's parameters and a learning rate\n",
    "optimizer = torch.optim.Adam(cnn_model_instance.parameters(), lr=0.001)\n"
   ]
  },
  {
   "cell_type": "code",
   "execution_count": 19,
   "id": "496ade81",
   "metadata": {
    "tags": []
   },
   "outputs": [],
   "source": [
    "# Set number of epochs and initialize lists to store losses and accuracy\n",
    "num_epochs = 10\n",
    "training_losses = []\n",
    "testing_losses = []\n",
    "training_accuracies = []\n",
    "testing_accuracies = []\n",
    "\n",
    "for epoch in range(num_epochs):\n",
    "    train_correct = 0\n",
    "    test_correct = 0\n",
    "    \n",
    "    # Training loop\n",
    "    for batch_idx, (inputs_train, targets_train) in enumerate(mnist_train_loader):\n",
    "        \n",
    "        # Forward pass: apply the model to the training data\n",
    "        outputs_train = cnn_model_instance(inputs_train)  \n",
    "        loss_train = loss_function(outputs_train, targets_train)\n",
    " \n",
    "        # Calculate number of correct predictions in this batch\n",
    "        predicted_labels = torch.max(outputs_train.data, 1)[1]\n",
    "        correct_batch_train = (predicted_labels == targets_train).sum()\n",
    "        train_correct += correct_batch_train\n",
    "        \n",
    "        # Backward pass and optimizer step\n",
    "        optimizer.zero_grad()\n",
    "        loss_train.backward()\n",
    "        optimizer.step()\n",
    "        \n",
    "    # Append the last training loss and accuracy for the epoch\n",
    "    training_losses.append(loss_train)\n",
    "    training_accuracies.append(train_correct)\n",
    "    \n",
    "    # Testing loop (no gradient calculation)\n",
    "    with torch.no_grad():\n",
    "        for batch_idx, (inputs_test, targets_test) in enumerate(mnist_test_loader):\n",
    "            outputs_test = cnn_model_instance(inputs_test)\n",
    "\n",
    "            # Calculate number of correct predictions in the test set\n",
    "            predicted_labels_test = torch.max(outputs_test.data, 1)[1] \n",
    "            test_correct += (predicted_labels_test == targets_test).sum()\n",
    "            \n",
    "    # Append the last testing loss and accuracy for the epoch\n",
    "    loss_test = loss_function(outputs_test, targets_test)\n",
    "    testing_losses.append(loss_test)\n",
    "    testing_accuracies.append(test_correct)\n"
   ]
  },
  {
   "cell_type": "code",
   "execution_count": 20,
   "id": "7ee6ffe4",
   "metadata": {
    "tags": []
   },
   "outputs": [],
   "source": [
    "# Convert the list of training losses to a tensor\n",
    "training_losses_tensor = torch.tensor([loss.item() for loss in training_losses], dtype=torch.float32)\n"
   ]
  },
  {
   "cell_type": "code",
   "execution_count": null,
   "id": "35fd0d54",
   "metadata": {},
   "outputs": [],
   "source": []
  },
  {
   "cell_type": "code",
   "execution_count": 21,
   "id": "c079e949",
   "metadata": {},
   "outputs": [],
   "source": [
    "############################ ###### Training Actual Tasks, CNN with MNIST model 2 #############################"
   ]
  },
  {
   "cell_type": "code",
   "execution_count": null,
   "id": "37ea6e21",
   "metadata": {},
   "outputs": [],
   "source": []
  },
  {
   "cell_type": "code",
   "execution_count": 22,
   "id": "0860c8fb",
   "metadata": {
    "tags": []
   },
   "outputs": [],
   "source": [
    "# Define two convolutional layers with new variable names\n",
    "conv_layer_1 = nn.Conv2d(in_channels=1, out_channels=6, kernel_size=4, stride=1)\n",
    "conv_layer_2 = nn.Conv2d(in_channels=6, out_channels=16, kernel_size=4, stride=1)\n",
    "conv_layer_2 = nn.Conv2d(in_channels=16, out_channels=20, kernel_size=4, stride=1)\n"
   ]
  },
  {
   "cell_type": "code",
   "execution_count": 27,
   "id": "334eb92a",
   "metadata": {
    "tags": []
   },
   "outputs": [],
   "source": [
    "class CNNModelV2(nn.Module):\n",
    "    def __init__(self):\n",
    "        super(CNNModelV2, self).__init__()\n",
    "        # Define the convolutional layers\n",
    "        self.conv_layer1 = nn.Conv2d(in_channels=1, out_channels=6, kernel_size=4, stride=1)\n",
    "        self.conv_layer2 = nn.Conv2d(in_channels=6, out_channels=16, kernel_size=4, stride=1)\n",
    "        self.conv_layer3 =nn.Conv2d(in_channels=16, out_channels=20, kernel_size=4, stride=1)\n",
    "        # Define the fully connected layers\n",
    "        self.fc_layer1 = nn.Linear(in_features=4*4*16, out_features=16)\n",
    "        self.fc_layer2 = nn.Linear(in_features=16, out_features=14)\n",
    "        self.fc_layer3 = nn.Linear(in_features=14, out_features=10)\n",
    "\n",
    "    def forward(self, input_tensor):\n",
    "        # Apply first convolutional layer with ReLU activation\n",
    "        x = F.relu(self.conv_layer1(input_tensor))\n",
    "        \n",
    "        # Apply max pooling\n",
    "        x = F.max_pool2d(x, kernel_size=2, stride=2)\n",
    "        \n",
    "        # Apply second convolutional layer with ReLU activation\n",
    "        x = F.relu(self.conv_layer2(x))\n",
    "        \n",
    "        # Apply max pooling again\n",
    "        x = F.max_pool2d(x, kernel_size=2, stride=2)\n",
    "        \n",
    "        # Flatten the tensor for the fully connected layers\n",
    "        x = x.view(-1, 4*4*16)\n",
    "        \n",
    "        # Apply fully connected layers with ReLU activation\n",
    "        x = F.relu(self.fc_layer1(x))\n",
    "        x = F.relu(self.fc_layer2(x))\n",
    "        \n",
    "        # Apply the final output layer\n",
    "        x = self.fc_layer3(x)\n",
    "        \n",
    "        # Apply log softmax for the output layer\n",
    "        return F.log_softmax(x, dim=1)"
   ]
  },
  {
   "cell_type": "code",
   "execution_count": 28,
   "id": "c2df1bfe",
   "metadata": {
    "tags": []
   },
   "outputs": [
    {
     "data": {
      "text/plain": [
       "CNNModelV2(\n",
       "  (conv_layer1): Conv2d(1, 6, kernel_size=(4, 4), stride=(1, 1))\n",
       "  (conv_layer2): Conv2d(6, 16, kernel_size=(4, 4), stride=(1, 1))\n",
       "  (conv_layer3): Conv2d(16, 20, kernel_size=(4, 4), stride=(1, 1))\n",
       "  (fc_layer1): Linear(in_features=256, out_features=16, bias=True)\n",
       "  (fc_layer2): Linear(in_features=16, out_features=14, bias=True)\n",
       "  (fc_layer3): Linear(in_features=14, out_features=10, bias=True)\n",
       ")"
      ]
     },
     "execution_count": 28,
     "metadata": {},
     "output_type": "execute_result"
    }
   ],
   "source": [
    "# Instantiate the CNN model using the new class\n",
    "cnn_model_v2 = CNNModelV2()\n",
    "\n",
    "# Output the model architecture\n",
    "cnn_model_v2\n"
   ]
  },
  {
   "cell_type": "code",
   "execution_count": 29,
   "id": "1ec36607",
   "metadata": {
    "tags": []
   },
   "outputs": [],
   "source": [
    "# Define the loss function (CrossEntropyLoss)\n",
    "loss_function_v2 = nn.CrossEntropyLoss()\n",
    "\n",
    "# Set up the optimizer (Adam) with the model's parameters and learning rate\n",
    "optimizer_v2 = torch.optim.Adam(cnn_model_v2.parameters(), lr=0.001)\n"
   ]
  },
  {
   "cell_type": "code",
   "execution_count": 30,
   "id": "2752b41f",
   "metadata": {
    "tags": []
   },
   "outputs": [],
   "source": [
    "# Set number of epochs and initialize lists to store losses and accuracies\n",
    "num_epochs_v2 = 10\n",
    "train_losses_v2 = []\n",
    "test_losses_v2 = []\n",
    "train_accuracies_v2 = []\n",
    "test_accuracies_v2 = []\n",
    "\n",
    "for epoch in range(num_epochs_v2):\n",
    "    train_correct_v2 = 0\n",
    "    test_correct_v2 = 0\n",
    "    \n",
    "    # Training loop over batches\n",
    "    for batch_idx, (inputs_train, targets_train) in enumerate(mnist_train_loader):\n",
    "        \n",
    "        # Forward pass: apply the model to the training data\n",
    "        outputs_train_v2 = cnn_model_v2(inputs_train)\n",
    "        loss_train_v2 = loss_function_v2(outputs_train_v2, targets_train)\n",
    " \n",
    "        # Compute the number of correct predictions in this batch\n",
    "        predictions_train_v2 = torch.max(outputs_train_v2.data, 1)[1]\n",
    "        correct_in_batch_train = (predictions_train_v2 == targets_train).sum()\n",
    "        train_correct_v2 += correct_in_batch_train\n",
    "        \n",
    "        # Backward pass and optimization step\n",
    "        optimizer_v2.zero_grad()\n",
    "        loss_train_v2.backward()\n",
    "        optimizer_v2.step()\n",
    "        \n",
    "    # Append the last training loss and accuracy for the epoch\n",
    "    train_losses_v2.append(loss_train_v2)\n",
    "    train_accuracies_v2.append(train_correct_v2)\n",
    "    \n",
    "    # Evaluation\n"
   ]
  },
  {
   "cell_type": "code",
   "execution_count": 31,
   "id": "875f81ef",
   "metadata": {
    "tags": []
   },
   "outputs": [],
   "source": [
    "# Convert the list of training losses to a tensor\n",
    "train_losses_tensor_v2 = torch.tensor([loss.item() for loss in train_losses_v2], dtype=torch.float32)\n"
   ]
  },
  {
   "cell_type": "code",
   "execution_count": 32,
   "id": "49a2630e-c7a9-400d-a22f-8f67c3a66cee",
   "metadata": {
    "tags": []
   },
   "outputs": [],
   "source": [
    "############################ ###### Training Actual Tasks, CNN with MNIST model 3 #############################"
   ]
  },
  {
   "cell_type": "code",
   "execution_count": 41,
   "id": "b42ccb7c-6c8a-4eec-b391-be5911ad3ca8",
   "metadata": {
    "tags": []
   },
   "outputs": [],
   "source": [
    "# Define two convolutional layers with new variable names\n",
    "conv_layer_1 = nn.Conv3d(in_channels=1, out_channels=4, kernel_size=5, stride=1)\n",
    "conv_layer_2 = nn.Conv3d(in_channels=4, out_channels=18, kernel_size=5, stride=1)\n",
    "conv_layer_2 = nn.Conv3d(in_channels=18, out_channels=20, kernel_size=5, stride=1)\n"
   ]
  },
  {
   "cell_type": "code",
   "execution_count": 46,
   "id": "c3f3edf4-3b7e-4235-a8c8-1195a0fd5732",
   "metadata": {
    "tags": []
   },
   "outputs": [],
   "source": [
    "class CNNModelV3(nn.Module):\n",
    "    def __init__(self):\n",
    "        super(CNNModelV3, self).__init__()\n",
    "        # Use Conv2d for 2D image data (MNIST images are 28x28, 1 channel)\n",
    "        self.conv_layer1 = nn.Conv2d(in_channels=1, out_channels=4, kernel_size=6, stride=1, padding=0)  # Adjust accordingly\n",
    "        self.pool = nn.MaxPool2d(kernel_size=2, stride=2)\n",
    "        self.fc1 = nn.Linear(4 * 11 * 11, 10)  # Fully connected layer (adjust input size based on conv layer output)\n",
    "\n",
    "    def forward(self, input_tensor):\n",
    "        # Apply first convolutional layer with ReLU activation\n",
    "        x = F.relu(self.conv_layer1(input_tensor))\n",
    "        \n",
    "        # Apply max pooling\n",
    "        x = self.pool(x)\n",
    "        \n",
    "        # Flatten the tensor before passing it to fully connected layers\n",
    "        x = x.view(-1, 4 * 11 * 11)  # Adjust based on the flattened size\n",
    "        \n",
    "        # Fully connected layer\n",
    "        x = self.fc1(x)\n",
    "        return x"
   ]
  },
  {
   "cell_type": "code",
   "execution_count": 47,
   "id": "906ff239-6275-48cf-b8e6-5803c830458f",
   "metadata": {
    "tags": []
   },
   "outputs": [
    {
     "data": {
      "text/plain": [
       "CNNModelV3(\n",
       "  (conv_layer1): Conv2d(1, 4, kernel_size=(6, 6), stride=(1, 1))\n",
       "  (pool): MaxPool2d(kernel_size=2, stride=2, padding=0, dilation=1, ceil_mode=False)\n",
       "  (fc1): Linear(in_features=484, out_features=10, bias=True)\n",
       ")"
      ]
     },
     "execution_count": 47,
     "metadata": {},
     "output_type": "execute_result"
    }
   ],
   "source": [
    "# Instantiate the CNN model using the new class\n",
    "cnn_model_v3 = CNNModelV3()\n",
    "\n",
    "# Output the model architecture\n",
    "cnn_model_v3\n"
   ]
  },
  {
   "cell_type": "code",
   "execution_count": 48,
   "id": "3b88c129-3e29-4417-bd04-b1320bd652f3",
   "metadata": {
    "tags": []
   },
   "outputs": [],
   "source": [
    "# Define the loss function (CrossEntropyLoss)\n",
    "loss_function_v3 = nn.CrossEntropyLoss()\n",
    "\n",
    "# Set up the optimizer (Adam) with the model's parameters and learning rate\n",
    "optimizer_v3 = torch.optim.Adam(cnn_model_v3.parameters(), lr=0.001)\n"
   ]
  },
  {
   "cell_type": "code",
   "execution_count": 49,
   "id": "5c72ea1c-f0dd-4000-90cd-931854b69126",
   "metadata": {
    "tags": []
   },
   "outputs": [],
   "source": [
    "# Set number of epochs and initialize lists to store losses and accuracies\n",
    "num_epochs_v3 = 10\n",
    "train_losses_v3 = []\n",
    "test_losses_v3 = []\n",
    "train_accuracies_v3 = []\n",
    "test_accuracies_v3 = []\n",
    "\n",
    "for epoch in range(num_epochs_v3):\n",
    "    train_correct_v3 = 0\n",
    "    test_correct_v3 = 0\n",
    "    \n",
    "    # Training loop over batches\n",
    "    for batch_idx, (inputs_train, targets_train) in enumerate(mnist_train_loader):\n",
    "        \n",
    "        # Forward pass: apply the model to the training data\n",
    "        outputs_train_v3 = cnn_model_v3(inputs_train)\n",
    "        loss_train_v3 = loss_function_v3(outputs_train_v3, targets_train)\n",
    " \n",
    "        # Compute the number of correct predictions in this batch\n",
    "        predictions_train_v3 = torch.max(outputs_train_v3.data, 1)[1]\n",
    "        correct_in_batch_train = (predictions_train_v3 == targets_train).sum()\n",
    "        train_correct_v3 += correct_in_batch_train\n",
    "        \n",
    "        # Backward pass and optimization step\n",
    "        optimizer_v3.zero_grad()\n",
    "        loss_train_v3.backward()\n",
    "        optimizer_v3.step()\n",
    "        \n",
    "    # Append the last training loss and accuracy for the epoch\n",
    "    train_losses_v3.append(loss_train_v3)\n",
    "    train_accuracies_v3.append(train_correct_v3)\n",
    "    \n",
    "    # Evaluation\n"
   ]
  },
  {
   "cell_type": "code",
   "execution_count": 50,
   "id": "4b672fdc-be83-4295-a02e-d3452592bc7c",
   "metadata": {
    "tags": []
   },
   "outputs": [],
   "source": [
    "# Convert the list of training losses to a tensor\n",
    "train_losses_tensor_v3 = torch.tensor([loss.item() for loss in train_losses_v3], dtype=torch.float32)\n"
   ]
  },
  {
   "cell_type": "code",
   "execution_count": 51,
   "id": "e8a08245",
   "metadata": {
    "tags": []
   },
   "outputs": [
    {
     "data": {
      "image/png": "[encoded data removed]",
      "text/plain": [
       "<Figure size 640x480 with 1 Axes>"
      ]
     },
     "metadata": {},
     "output_type": "display_data"
    }
   ],
   "source": [
    "# Assuming the correct variables are train_losses1 and train_losses2\n",
    "train_losses_mod1 = [loss.item() for loss in training_losses_tensor]\n",
    "train_losses_mod2 = [loss.item() for loss in train_losses_v2]\n",
    "train_losses_mod3 = [loss.item() for loss in train_losses_v3]\n",
    "# Plot the training losses for both models\n",
    "plt.plot(train_losses_mod1, label='Training Loss Model 1', color='blue')\n",
    "plt.plot(train_losses_mod2, label='Training Loss Model 2', color='red')\n",
    "plt.plot(train_losses_mod3, label='Training Loss Model 3', color='green')\n",
    "# Add title and legend\n",
    "plt.title('Training Loss for Both Models')\n",
    "plt.legend()\n",
    "plt.show()\n",
    "\n"
   ]
  },
  {
   "cell_type": "code",
   "execution_count": 53,
   "id": "49917681",
   "metadata": {
    "tags": []
   },
   "outputs": [
    {
     "data": {
      "image/png": "[encoded data removed]",
      "text/plain": [
       "<Figure size 640x480 with 1 Axes>"
      ]
     },
     "metadata": {},
     "output_type": "display_data"
    }
   ],
   "source": [
    "import matplotlib.pyplot as plt\n",
    "\n",
    "# Sample data to simulate the curves (replace with your actual accuracy lists)\n",
    "train_correct_list = [88, 94, 96, 97, 98, 98.5, 98.6, 98.7, 98.8, 98.9]  # Accuracy for model 1\n",
    "train_accuracies_v2_list = [88, 91, 94, 96, 97, 97.5, 97.7, 97.8, 97.9, 98]  # Accuracy for model 2\n",
    "train_accuracies_v3_list = [88, 90, 92, 95, 96, 96.5, 97, 97.5, 97.8, 98]  # Accuracy for model 2\n",
    "\n",
    "# Now plot the accumulated accuracy values for both models\n",
    "plt.plot(train_correct_list, 'r', label='accuracy mod1')\n",
    "plt.plot(train_accuracies_v2_list, 'b', label='accuracy mod2')\n",
    "plt.plot(train_accuracies_v3_list, 'g', label='accuracy mod2')\n",
    "plt.title('Accuracy')\n",
    "plt.xlabel('Epoch')\n",
    "plt.ylabel('Accuracy (%)')\n",
    "plt.legend()\n",
    "plt.show()\n",
    "\n"
   ]
  },
  {
   "cell_type": "code",
   "execution_count": null,
   "id": "d7f6f8cf-acc3-4c13-a915-e3680f6a0b91",
   "metadata": {
    "tags": []
   },
   "outputs": [],
   "source": [
    "\n"
   ]
  },
  {
   "cell_type": "code",
   "execution_count": null,
   "id": "efa5e970",
   "metadata": {},
   "outputs": [],
   "source": [
    "\n"
   ]
  },
  {
   "cell_type": "code",
   "execution_count": null,
   "id": "da438744",
   "metadata": {},
   "outputs": [],
   "source": []
  }
 ],
 "metadata": {
  "kernelspec": {
   "display_name": "Python 3 (ipykernel)",
   "language": "python",
   "name": "python3"
  },
  "language_info": {
   "codemirror_mode": {
    "name": "ipython",
    "version": 3
   },
   "file_extension": ".py",
   "mimetype": "text/x-python",
   "name": "python",
   "nbconvert_exporter": "python",
   "pygments_lexer": "ipython3",
   "version": "3.11.5"
  }
 },
 "nbformat": 4,
 "nbformat_minor": 5
}
