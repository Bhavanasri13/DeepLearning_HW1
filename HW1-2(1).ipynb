{
 "cells": [
  {
   "cell_type": "code",
   "execution_count": 42,
   "id": "183b86d4",
   "metadata": {},
   "outputs": [],
   "source": [
    "import torch\n",
    "import torch.nn as nn\n",
    "import torch.nn.functional as F\n",
    "from torch.utils.data import DataLoader\n",
    "from torchvision import datasets, transforms\n",
    "\n",
    "import numpy as np\n",
    "import pandas as pd\n",
    "import matplotlib.pyplot as plt\n",
    "%matplotlib inline"
   ]
  },
  {
   "cell_type": "code",
   "execution_count": 43,
   "id": "83180882",
   "metadata": {},
   "outputs": [],
   "source": [
    "X = torch.linspace(-10, 10, 100).reshape(-1, 1)\n",
    "y = (torch.sin(5 * torch.pi * X)) / (5 * torch.pi * X)\n",
    "def calc_params(model):\n",
    "    return sum(p.numel() for p in model.parameters() if p.requires_grad)\n",
    "\n"
   ]
  },
  {
   "cell_type": "code",
   "execution_count": 44,
   "id": "b48b2fc5",
   "metadata": {},
   "outputs": [
    {
     "name": "stdout",
     "output_type": "stream",
     "text": [
      "Model(\n",
      "  (fc1): Linear(in_features=1, out_features=2, bias=True)\n",
      "  (fc2): Linear(in_features=2, out_features=4, bias=True)\n",
      "  (fc3): Linear(in_features=4, out_features=1, bias=True)\n",
      ")\n"
     ]
    }
   ],
   "source": [
    "#Creating Model\n",
    "class Model(nn.Module):\n",
    "    def __init__(self, input_f=1, a1=2, a2=4, output_f=1):\n",
    "        super().__init__()\n",
    "        self.fc1 = nn.Linear(input_f,a1)    \n",
    "        self.fc2 = nn.Linear(a1, a2)\n",
    "        self.fc3 = nn.Linear(a2, output_f)\n",
    "    def forward(self, S):\n",
    "        S = F.relu(self.fc1(S))\n",
    "        S = F.relu(self.fc2(S))\n",
    "        S = self.fc3(S)\n",
    "        return S\n",
    "model = Model()\n",
    "print(model)\n"
   ]
  },
  {
   "cell_type": "code",
   "execution_count": 45,
   "id": "dc53be56",
   "metadata": {},
   "outputs": [
    {
     "name": "stdout",
     "output_type": "stream",
     "text": [
      "21\n"
     ]
    }
   ],
   "source": [
    "model_params = calc_params(model)\n",
    "print(model_params)\n"
   ]
  },
  {
   "cell_type": "code",
   "execution_count": 46,
   "id": "34995be7",
   "metadata": {},
   "outputs": [],
   "source": [
    "layer1_params=(1 * 2)\n",
    "layer2_params=(2 * 4)\n",
    "layer3_params=( 4 * 1)\n",
    "total_model_params = (1 * 2) + (2 * 4) + ( 4 * 1)"
   ]
  },
  {
   "cell_type": "code",
   "execution_count": 47,
   "id": "4df63b65",
   "metadata": {},
   "outputs": [],
   "source": [
    "\n",
    "\n",
    "\n",
    "\n",
    "\n",
    "criterion = nn.CrossEntropyLoss()\n",
    "optimizer = torch.optim.Adam(model.parameters(), lr=0.001)\n",
    "no_iterations = 8\n",
    "epochs = 30\n",
    "epoch_num = epochs // 3  # Use integer division for clarity\n",
    "mod_losses = []\n",
    "c = 0\n",
    "\n",
    "# Preallocate tensors for storing weights and loss\n",
    "layer2_weights_tensor = torch.zeros((no_iterations * epoch_num, layer2_params))\n",
    "whole_mod_weights_tensor = torch.zeros((no_iterations * epoch_num, total_model_params))\n",
    "loss_tensor = torch.zeros((no_iterations * epoch_num, 1))\n",
    "\n",
    "# Training loop\n",
    "for iteration in range(no_iterations):\n",
    "    model = Model()\n",
    "    criterion = nn.CrossEntropyLoss()\n",
    "    optimizer = torch.optim.Adam(model.parameters(), lr=0.001)\n",
    "    \n",
    "    for epoch in range(1, epochs + 1):\n",
    "        # Forward pass\n",
    "        y_pred = model(X)\n",
    "        \n",
    "        # Compute loss\n",
    "        loss = criterion(y_pred, y)\n",
    "        mod_losses.append(loss.item())  # Save loss for tracking\n",
    "\n",
    "        # Backward pass and optimization\n",
    "        optimizer.zero_grad()\n",
    "        loss.backward()\n",
    "        optimizer.step()\n",
    "        \n",
    "        # Every 3 epochs, collect weights and loss of the model\n",
    "        if epoch % 3 == 0:\n",
    "            # Collect weights from each layer\n",
    "            lay1_weights = model.fc1.weight.flatten().unsqueeze(0)  # Reshape to (1, layer1_params)\n",
    "            lay2_weights = model.fc2.weight.flatten().unsqueeze(0)  # Reshape to (1, layer2_params)\n",
    "            lay3_weights = model.fc3.weight.flatten().unsqueeze(0)  # Reshape to (1, layer3_params)\n",
    "            \n",
    "            # Combine all layer weights into a single tensor\n",
    "            whole_mod_weights = torch.cat([lay1_weights, lay2_weights, lay3_weights], dim=1)\n",
    "            \n",
    "            # Save weights and loss to preallocated tensors\n",
    "            whole_mod_weights_tensor[c] = whole_mod_weights\n",
    "            layer2_weights_tensor[c] = lay2_weights\n",
    "            loss_tensor[c] = loss.item()\n",
    "            c += 1\n"
   ]
  },
  {
   "cell_type": "code",
   "execution_count": 48,
   "id": "674cfba1",
   "metadata": {},
   "outputs": [],
   "source": [
    "\n",
    "def pca_implementation(input_array, dimensions_to_retain):\n",
    "    # Get the number of samples (m) and features (n)\n",
    "    m, n = input_array.shape\n",
    "    \n",
    "    # Step 1: Normalize the input array (subtract the mean from each feature)\n",
    "    means = np.mean(input_array, axis=0)\n",
    "    input_normalized = input_array - means\n",
    "    \n",
    "    # Step 2: Calculate the covariance matrix\n",
    "    covariance_matrix = np.dot(input_normalized.T, input_normalized) / (m - 1)\n",
    "    \n",
    "    # Step 3: Calculate eigenvalues and eigenvectors of the covariance matrix\n",
    "    eigenvalues, eigenvectors = np.linalg.eig(covariance_matrix)\n",
    "    \n",
    "    # Step 4: Sort eigenvalues and corresponding eigenvectors in descending order\n",
    "    sorted_indices = np.argsort(eigenvalues)[::-1]\n",
    "    sorted_eigenvectors = eigenvectors[:, sorted_indices]\n",
    "    \n",
    "    # Step 5: Select the top 'dimensions_to_retain' eigenvectors\n",
    "    selected_eigenvectors = sorted_eigenvectors[:, :dimensions_to_retain]\n",
    "    \n",
    "    # Step 6: Project the data onto the selected eigenvectors (reduce dimensions)\n",
    "    reduced_dimension_data = np.dot(input_normalized, selected_eigenvectors)\n",
    "    \n",
    "    return reduced_dimension_data\n"
   ]
  },
  {
   "cell_type": "code",
   "execution_count": 49,
   "id": "b7518241",
   "metadata": {},
   "outputs": [],
   "source": [
    "# Detach and move tensors to CPU, then convert to NumPy\n",
    "layer2_weights_np = layer2_weights_tensor.detach().cpu().numpy()\n",
    "whole_model_weights_np = whole_mod_weights_tensor.detach().cpu().numpy()\n",
    "loss_vector_np = loss_tensor.detach().cpu().numpy()\n",
    "\n",
    "# Perform PCA to reduce dimensions to 2\n",
    "layer2_weights_reduced = pca_implementation(layer2_weights_np, 2)\n",
    "whole_model_weights_reduced = pca_implementation(whole_model_weights_np, 2)\n"
   ]
  },
  {
   "cell_type": "code",
   "execution_count": 51,
   "id": "5f5499d3",
   "metadata": {},
   "outputs": [
    {
     "data": {
      "image/png": "[encoded data removed]",
      "text/plain": [
       "<Figure size 640x480 with 1 Axes>"
      ]
     },
     "metadata": {},
     "output_type": "display_data"
    }
   ],
   "source": [
    "import matplotlib.pyplot as plt\n",
    "\n",
    "# Define colors and labels\n",
    "color_markers = ['y*', 'b*', 'g*', 'r*', 'c*', 'm*']\n",
    "color_names = [\"coral\", \"orange\", \"green\", \"red\", \"brown\", \"purple\"]\n",
    "\n",
    "# Initialize counters\n",
    "color_counter = 0\n",
    "\n",
    "# Plot Layer 2 weights after PCA reduction\n",
    "for i, pair in enumerate(layer2_weights_reduced):\n",
    "    # Change color every 10 iterations\n",
    "    if i % 10 == 0 and i != 0:\n",
    "        color_counter = (color_counter + 1) % len(color_markers)\n",
    "    \n",
    "    # Plot the points with corresponding colors\n",
    "    plt.plot(pair[0], pair[1], color_markers[color_counter])\n",
    "    \n",
    "    # Annotate the points with loss values\n",
    "    plt.annotate(str(round(loss_vector_np[i][0], 2)), (pair[0], pair[1]), color=color_names[color_counter])\n",
    "\n",
    "# Set the title and show the plot\n",
    "plt.title(\"Layer 2\")\n",
    "plt.show()\n"
   ]
  },
  {
   "cell_type": "code",
   "execution_count": 52,
   "id": "0b82a04b",
   "metadata": {},
   "outputs": [
    {
     "data": {
      "image/png": "[encoded data removed]",
      "text/plain": [
       "<Figure size 640x480 with 1 Axes>"
      ]
     },
     "metadata": {},
     "output_type": "display_data"
    }
   ],
   "source": [
    "# Initialize counters\n",
    "color_counter = 0\n",
    "\n",
    "# Plot the whole model's weights after PCA reduction\n",
    "for i, pair in enumerate(whole_model_weights_reduced):\n",
    "    # Change color every 10 iterations\n",
    "    if i % 10 == 0 and i != 0:\n",
    "        color_counter = (color_counter + 1) % len(color_markers)\n",
    "    \n",
    "    # Plot the points with corresponding colors\n",
    "    plt.plot(pair[0], pair[1], color_markers[color_counter])\n",
    "    \n",
    "    # Annotate the points with loss values\n",
    "    plt.annotate(str(round(loss_vector_np[i][0], 2)), (pair[0], pair[1]), color=color_names[color_counter])\n",
    "\n",
    "# Set the title and show the plot\n",
    "plt.title(\"Whole Model\")\n",
    "plt.show()\n"
   ]
  },
  {
   "cell_type": "code",
   "execution_count": null,
   "id": "b37640e2",
   "metadata": {},
   "outputs": [],
   "source": []
  }
 ],
 "metadata": {
  "kernelspec": {
   "display_name": "Python 3 (ipykernel)",
   "language": "python",
   "name": "python3"
  },
  "language_info": {
   "codemirror_mode": {
    "name": "ipython",
    "version": 3
   },
   "file_extension": ".py",
   "mimetype": "text/x-python",
   "name": "python",
   "nbconvert_exporter": "python",
   "pygments_lexer": "ipython3",
   "version": "3.11.5"
  }
 },
 "nbformat": 4,
 "nbformat_minor": 5
}
